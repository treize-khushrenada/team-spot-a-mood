{
 "cells": [
  {
   "cell_type": "code",
   "execution_count": 1,
   "metadata": {},
   "outputs": [
    {
     "name": "stderr",
     "output_type": "stream",
     "text": [
      "c:\\Users\\poomk\\miniconda3\\envs\\dataenv\\lib\\site-packages\\huggingface_hub\\snapshot_download.py:6: FutureWarning: snapshot_download.py has been made private and will no longer be available from version 0.11. Please use `from huggingface_hub import snapshot_download` to import the only public function in this module. Other members of the file may be changed without a deprecation notice.\n",
      "  warnings.warn(\n"
     ]
    }
   ],
   "source": [
    "import os\n",
    "import json\n",
    "import sys\n",
    "import glob\n",
    "import numpy as np\n",
    "import pandas as pd\n",
    "import pycaret\n",
    "from yellowbrick.cluster import SilhouetteVisualizer\n",
    "\n",
    "from sentence_transformers import SentenceTransformer, util\n"
   ]
  },
  {
   "cell_type": "code",
   "execution_count": 2,
   "metadata": {},
   "outputs": [],
   "source": [
    "# load data\n",
    "path = '../songsdata'\n",
    "all_files = glob.glob(os.path.join(path, \"*.csv\"))\n",
    "df = pd.concat((pd.read_csv(f) for f in all_files), ignore_index=True)"
   ]
  },
  {
   "cell_type": "code",
   "execution_count": 3,
   "metadata": {},
   "outputs": [
    {
     "data": {
      "text/plain": [
       "(100000, 18)"
      ]
     },
     "execution_count": 3,
     "metadata": {},
     "output_type": "execute_result"
    }
   ],
   "source": [
    "df.shape"
   ]
  },
  {
   "cell_type": "code",
   "execution_count": 4,
   "metadata": {},
   "outputs": [
    {
     "data": {
      "text/html": [
       "<div>\n",
       "<style scoped>\n",
       "    .dataframe tbody tr th:only-of-type {\n",
       "        vertical-align: middle;\n",
       "    }\n",
       "\n",
       "    .dataframe tbody tr th {\n",
       "        vertical-align: top;\n",
       "    }\n",
       "\n",
       "    .dataframe thead th {\n",
       "        text-align: right;\n",
       "    }\n",
       "</style>\n",
       "<table border=\"1\" class=\"dataframe\">\n",
       "  <thead>\n",
       "    <tr style=\"text-align: right;\">\n",
       "      <th></th>\n",
       "      <th>artist</th>\n",
       "      <th>title</th>\n",
       "      <th>danceability</th>\n",
       "      <th>energy</th>\n",
       "      <th>key</th>\n",
       "      <th>loudness</th>\n",
       "      <th>mode</th>\n",
       "      <th>speechiness</th>\n",
       "      <th>acousticness</th>\n",
       "      <th>instrumentalness</th>\n",
       "      <th>liveness</th>\n",
       "      <th>valence</th>\n",
       "      <th>tempo</th>\n",
       "      <th>duration</th>\n",
       "      <th>time_signature</th>\n",
       "      <th>lyrics</th>\n",
       "      <th>genius_id</th>\n",
       "      <th>annotation</th>\n",
       "    </tr>\n",
       "  </thead>\n",
       "  <tbody>\n",
       "    <tr>\n",
       "      <th>0</th>\n",
       "      <td>A Few Good Men</td>\n",
       "      <td>Tonite</td>\n",
       "      <td>0.615</td>\n",
       "      <td>0.673</td>\n",
       "      <td>5.0</td>\n",
       "      <td>-8.501</td>\n",
       "      <td>0.0</td>\n",
       "      <td>0.1150</td>\n",
       "      <td>0.0429</td>\n",
       "      <td>0.0</td>\n",
       "      <td>0.2610</td>\n",
       "      <td>0.831</td>\n",
       "      <td>178.124</td>\n",
       "      <td>254360.0</td>\n",
       "      <td>4.0</td>\n",
       "      <td>Tonite LyricsYou know I really want to love yo...</td>\n",
       "      <td>1382268.0</td>\n",
       "      <td>[]</td>\n",
       "    </tr>\n",
       "    <tr>\n",
       "      <th>1</th>\n",
       "      <td>A Few Good Men</td>\n",
       "      <td>Have I Never</td>\n",
       "      <td>0.717</td>\n",
       "      <td>0.377</td>\n",
       "      <td>4.0</td>\n",
       "      <td>-8.680</td>\n",
       "      <td>1.0</td>\n",
       "      <td>0.0288</td>\n",
       "      <td>0.2820</td>\n",
       "      <td>0.0</td>\n",
       "      <td>0.1380</td>\n",
       "      <td>0.161</td>\n",
       "      <td>120.036</td>\n",
       "      <td>336533.0</td>\n",
       "      <td>4.0</td>\n",
       "      <td>Have I Never LyricsHave I never told you I lov...</td>\n",
       "      <td>1187594.0</td>\n",
       "      <td>[]</td>\n",
       "    </tr>\n",
       "    <tr>\n",
       "      <th>2</th>\n",
       "      <td>A Few Good Men</td>\n",
       "      <td>Don't Cry (Behind My Back)</td>\n",
       "      <td>0.774</td>\n",
       "      <td>0.691</td>\n",
       "      <td>10.0</td>\n",
       "      <td>-6.815</td>\n",
       "      <td>1.0</td>\n",
       "      <td>0.0403</td>\n",
       "      <td>0.0827</td>\n",
       "      <td>0.0</td>\n",
       "      <td>0.0736</td>\n",
       "      <td>0.850</td>\n",
       "      <td>134.050</td>\n",
       "      <td>308267.0</td>\n",
       "      <td>4.0</td>\n",
       "      <td>Don’t Cry (Behind My Back) LyricsDon't cry, do...</td>\n",
       "      <td>897142.0</td>\n",
       "      <td>[]</td>\n",
       "    </tr>\n",
       "  </tbody>\n",
       "</table>\n",
       "</div>"
      ],
      "text/plain": [
       "           artist                       title  danceability  energy   key  \\\n",
       "0  A Few Good Men                      Tonite         0.615   0.673   5.0   \n",
       "1  A Few Good Men                Have I Never         0.717   0.377   4.0   \n",
       "2  A Few Good Men  Don't Cry (Behind My Back)         0.774   0.691  10.0   \n",
       "\n",
       "   loudness  mode  speechiness  acousticness  instrumentalness  liveness  \\\n",
       "0    -8.501   0.0       0.1150        0.0429               0.0    0.2610   \n",
       "1    -8.680   1.0       0.0288        0.2820               0.0    0.1380   \n",
       "2    -6.815   1.0       0.0403        0.0827               0.0    0.0736   \n",
       "\n",
       "   valence    tempo  duration  time_signature  \\\n",
       "0    0.831  178.124  254360.0             4.0   \n",
       "1    0.161  120.036  336533.0             4.0   \n",
       "2    0.850  134.050  308267.0             4.0   \n",
       "\n",
       "                                              lyrics  genius_id annotation  \n",
       "0  Tonite LyricsYou know I really want to love yo...  1382268.0         []  \n",
       "1  Have I Never LyricsHave I never told you I lov...  1187594.0         []  \n",
       "2  Don’t Cry (Behind My Back) LyricsDon't cry, do...   897142.0         []  "
      ]
     },
     "execution_count": 4,
     "metadata": {},
     "output_type": "execute_result"
    }
   ],
   "source": [
    "df.head(3)"
   ]
  },
  {
   "cell_type": "code",
   "execution_count": 5,
   "metadata": {},
   "outputs": [],
   "source": [
    "# data cleaning\n",
    "\n"
   ]
  },
  {
   "cell_type": "code",
   "execution_count": null,
   "metadata": {},
   "outputs": [],
   "source": [
    "# transform lyrics to vector embedding"
   ]
  },
  {
   "cell_type": "code",
   "execution_count": null,
   "metadata": {},
   "outputs": [],
   "source": [
    "# finding cluster using all the features"
   ]
  },
  {
   "cell_type": "code",
   "execution_count": null,
   "metadata": {},
   "outputs": [],
   "source": [
    "# cluster visualization with text and valence"
   ]
  }
 ],
 "metadata": {
  "kernelspec": {
   "display_name": "Python 3.10.6 ('dataenv')",
   "language": "python",
   "name": "python3"
  },
  "language_info": {
   "codemirror_mode": {
    "name": "ipython",
    "version": 3
   },
   "file_extension": ".py",
   "mimetype": "text/x-python",
   "name": "python",
   "nbconvert_exporter": "python",
   "pygments_lexer": "ipython3",
   "version": "3.10.6"
  },
  "orig_nbformat": 4,
  "vscode": {
   "interpreter": {
    "hash": "467f60c46b88ea196e8e4e51716c4f14b05141d893e1660e0038b81da854c476"
   }
  }
 },
 "nbformat": 4,
 "nbformat_minor": 2
}
