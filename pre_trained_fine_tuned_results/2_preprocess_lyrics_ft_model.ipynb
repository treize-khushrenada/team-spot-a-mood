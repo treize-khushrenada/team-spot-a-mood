{
  "cells": [
    {
      "cell_type": "code",
      "execution_count": 1,
      "metadata": {
        "id": "ZvkdKD_xQayU"
      },
      "outputs": [],
      "source": [
        "import numpy as np\n",
        "import pandas as pd\n",
        "import os\n",
        "import nltk\n",
        "import pickle\n",
        "import re\n",
        "\n",
        "from nltk.tokenize import word_tokenize\n",
        "from sentence_transformers import SentenceTransformer, util"
      ]
    },
    {
      "cell_type": "code",
      "execution_count": 2,
      "metadata": {
        "id": "kqJud0xoQayX"
      },
      "outputs": [],
      "source": [
        "# get the cleaned songs data\n",
        "songs_set = pd.read_csv('../cleaned_songs.csv')"
      ]
    },
    {
      "cell_type": "code",
      "execution_count": 3,
      "metadata": {
        "id": "Tpn4i7DRQayY"
      },
      "outputs": [],
      "source": [
        "# get songs lyrics set\n",
        "lyrics_set = songs_set['lyrics']"
      ]
    },
    {
      "cell_type": "code",
      "execution_count": 4,
      "metadata": {
        "id": "1gDLg9kCQayZ"
      },
      "outputs": [],
      "source": [
        "# pickle the sets\n",
        "l_pickle = [songs_set, lyrics_set]\n",
        "with open('../App/pickle_objects/sample_song_lyrics_set.pickle', 'wb') as f:\n",
        "    pickle.dump(l_pickle, f)"
      ]
    },
    {
      "cell_type": "code",
      "execution_count": 5,
      "metadata": {
        "id": "zGfWRHVAQaya"
      },
      "outputs": [],
      "source": [
        "# # for based-line model embedding pls uncomment this line\n",
        "with open('../App/pickle_objects/sample_song_lyrics_set.pickle', 'rb') as f:\n",
        "    l_pickle = pickle.load(f)\n",
        "\n",
        "lyrics_set = l_pickle[1].sample(1000, random_state=42)"
      ]
    },
    {
      "cell_type": "code",
      "execution_count": 8,
      "metadata": {
        "id": "FmgoSxI8QayZ"
      },
      "outputs": [],
      "source": [
        "# get embedding function\n",
        "def embeddings_gen(lyrics_set, model_name = \"all-distilroberta-v1\"):\n",
        "    # Create mdoel\n",
        "    model = SentenceTransformer(model_name)\n",
        "    # Create bag of lyrics lines with their corresponding song_ids\n",
        "    l_lyrics_lines =[]\n",
        "    l_song_idx =[]\n",
        "    for idx in lyrics_set.index:\n",
        "        lyrics = lyrics_set[idx]\n",
        "        lyrics_lines = re.split('\\n',lyrics)\n",
        "        # Condition: do not include lyrics lines that are more than 512 tokens\n",
        "        if any(len(word_tokenize(x)) >= 512 for x in lyrics_lines):\n",
        "            continue\n",
        "        l_lyrics_lines.extend(lyrics_lines)\n",
        "        l_song_idx.extend([idx] * len(lyrics_lines))\n",
        "\n",
        "    # For invert indexing //Store related song ids as np array\n",
        "    arr_song_idx = np.array(l_song_idx)\n",
        "    # Store lyrics lines as np array\n",
        "    arr_lyrics_idx = np.array(l_lyrics_lines)\n",
        "\n",
        "    embeddings = model.encode(l_lyrics_lines, convert_to_tensor=True)\n",
        "    \n",
        "    return embeddings, arr_song_idx, arr_lyrics_idx\n"
      ]
    },
    {
      "cell_type": "code",
      "execution_count": 16,
      "metadata": {},
      "outputs": [],
      "source": [
        "# transform lyrics to vector embedding\n",
        "# get the vector embedding of the sampling 1000 dataset from the 100k songs data >> preprocess_lyrics.ipynb\n",
        "with open('../App/pickle_objects/embeddings_ft_model.obj', 'rb') as f:\n",
        "    embeddings, arr_song_idx, arr_lyrics_idx = pickle.load(f)\n",
        "\n",
        "with open('../App/pickle_objects/sample_song_lyrics_set.pickle', 'rb') as f:\n",
        "    songs_set, lyrics_set = pickle.load(f)\n",
        "\n",
        "# getting songs index to be trained with bertopic\n",
        "songs_idx = sorted(list(set(arr_song_idx)))\n",
        "\n",
        "# getting songs in the index\n",
        "sample_songs_set = songs_set.loc[songs_set.index.isin(songs_idx)]\n",
        "lyrics_set = sample_songs_set['lyrics']"
      ]
    },
    {
      "cell_type": "code",
      "execution_count": 17,
      "metadata": {},
      "outputs": [],
      "source": [
        "# fine-tuned BERT model local location\n",
        "ft_model = '../../BERT-Fine-Tuning/Data/ft_model'\n",
        "# re-create embeddings using local model\n",
        "embeddings_ft_model, arr_song_idx, arr_lyrics_idx = embeddings_gen(lyrics_set, ft_model)"
      ]
    },
    {
      "cell_type": "code",
      "execution_count": 18,
      "metadata": {},
      "outputs": [],
      "source": [
        "# extract embeddings and rename pickle file\n",
        "l_pickle = [embeddings_ft_model, arr_song_idx, arr_lyrics_idx]\n",
        "with open('../App/pickle_objects/embeddings_ft_model.obj', 'wb') as f:\n",
        "    pickle.dump(l_pickle, f)"
      ]
    }
  ],
  "metadata": {
    "colab": {
      "provenance": []
    },
    "kernelspec": {
      "display_name": "capstone",
      "language": "python",
      "name": "python3"
    },
    "language_info": {
      "codemirror_mode": {
        "name": "ipython",
        "version": 3
      },
      "file_extension": ".py",
      "mimetype": "text/x-python",
      "name": "python",
      "nbconvert_exporter": "python",
      "pygments_lexer": "ipython3",
      "version": "3.9.0"
    },
    "orig_nbformat": 4,
    "vscode": {
      "interpreter": {
        "hash": "44ad219f26c0c686c198e738502109e06346286dd7293b214b5d7d60a8bc9a82"
      }
    }
  },
  "nbformat": 4,
  "nbformat_minor": 0
}
