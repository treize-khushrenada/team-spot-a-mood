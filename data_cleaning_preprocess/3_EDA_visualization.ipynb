{
 "cells": [
  {
   "cell_type": "code",
   "execution_count": 33,
   "metadata": {},
   "outputs": [
    {
     "ename": "ImportError",
     "evalue": "numpy.core.multiarray failed to import",
     "output_type": "error",
     "traceback": [
      "\u001b[1;31m---------------------------------------------------------------------------\u001b[0m",
      "\u001b[1;31mRuntimeError\u001b[0m                              Traceback (most recent call last)",
      "File \u001b[1;32m__init__.pxd:942\u001b[0m, in \u001b[0;36mnumpy.import_array\u001b[1;34m()\u001b[0m\n",
      "\u001b[1;31mRuntimeError\u001b[0m: module compiled against API version 0x10 but this version of numpy is 0xf",
      "\nDuring handling of the above exception, another exception occurred:\n",
      "\u001b[1;31mImportError\u001b[0m                               Traceback (most recent call last)",
      "\u001b[1;32mc:\\Users\\poomk\\OneDrive\\Desktop\\songsdata\\data_cleaning_preprocess\\3_EDA_visualization.ipynb Cell 1\u001b[0m in \u001b[0;36m<cell line: 10>\u001b[1;34m()\u001b[0m\n\u001b[0;32m      <a href='vscode-notebook-cell:/c%3A/Users/poomk/OneDrive/Desktop/songsdata/data_cleaning_preprocess/3_EDA_visualization.ipynb#W0sZmlsZQ%3D%3D?line=6'>7</a>\u001b[0m \u001b[39mimport\u001b[39;00m \u001b[39mpickle\u001b[39;00m\n\u001b[0;32m      <a href='vscode-notebook-cell:/c%3A/Users/poomk/OneDrive/Desktop/songsdata/data_cleaning_preprocess/3_EDA_visualization.ipynb#W0sZmlsZQ%3D%3D?line=7'>8</a>\u001b[0m \u001b[39mimport\u001b[39;00m \u001b[39mpycaret\u001b[39;00m\n\u001b[1;32m---> <a href='vscode-notebook-cell:/c%3A/Users/poomk/OneDrive/Desktop/songsdata/data_cleaning_preprocess/3_EDA_visualization.ipynb#W0sZmlsZQ%3D%3D?line=9'>10</a>\u001b[0m \u001b[39mfrom\u001b[39;00m \u001b[39mbertopic\u001b[39;00m \u001b[39mimport\u001b[39;00m BERTopic\n\u001b[0;32m     <a href='vscode-notebook-cell:/c%3A/Users/poomk/OneDrive/Desktop/songsdata/data_cleaning_preprocess/3_EDA_visualization.ipynb#W0sZmlsZQ%3D%3D?line=10'>11</a>\u001b[0m \u001b[39mfrom\u001b[39;00m \u001b[39myellowbrick\u001b[39;00m\u001b[39m.\u001b[39;00m\u001b[39mcluster\u001b[39;00m \u001b[39mimport\u001b[39;00m SilhouetteVisualizer\n\u001b[0;32m     <a href='vscode-notebook-cell:/c%3A/Users/poomk/OneDrive/Desktop/songsdata/data_cleaning_preprocess/3_EDA_visualization.ipynb#W0sZmlsZQ%3D%3D?line=12'>13</a>\u001b[0m \u001b[39mfrom\u001b[39;00m \u001b[39msentence_transformers\u001b[39;00m \u001b[39mimport\u001b[39;00m SentenceTransformer, util\n",
      "File \u001b[1;32mc:\\Users\\poomk\\miniconda3\\envs\\dataenv\\lib\\site-packages\\bertopic\\__init__.py:1\u001b[0m, in \u001b[0;36m<module>\u001b[1;34m\u001b[0m\n\u001b[1;32m----> 1\u001b[0m \u001b[39mfrom\u001b[39;00m \u001b[39mbertopic\u001b[39;00m\u001b[39m.\u001b[39;00m\u001b[39m_bertopic\u001b[39;00m \u001b[39mimport\u001b[39;00m BERTopic\n\u001b[0;32m      3\u001b[0m __version__ \u001b[39m=\u001b[39m \u001b[39m\"\u001b[39m\u001b[39m0.12.0\u001b[39m\u001b[39m\"\u001b[39m\n\u001b[0;32m      5\u001b[0m __all__ \u001b[39m=\u001b[39m [\n\u001b[0;32m      6\u001b[0m     \u001b[39m\"\u001b[39m\u001b[39mBERTopic\u001b[39m\u001b[39m\"\u001b[39m,\n\u001b[0;32m      7\u001b[0m ]\n",
      "File \u001b[1;32mc:\\Users\\poomk\\miniconda3\\envs\\dataenv\\lib\\site-packages\\bertopic\\_bertopic.py:23\u001b[0m, in \u001b[0;36m<module>\u001b[1;34m\u001b[0m\n\u001b[0;32m     20\u001b[0m \u001b[39mfrom\u001b[39;00m \u001b[39mtyping\u001b[39;00m \u001b[39mimport\u001b[39;00m List, Tuple, Union, Mapping, Any, Callable, Iterable\n\u001b[0;32m     22\u001b[0m \u001b[39m# Models\u001b[39;00m\n\u001b[1;32m---> 23\u001b[0m \u001b[39mimport\u001b[39;00m \u001b[39mhdbscan\u001b[39;00m\n\u001b[0;32m     24\u001b[0m \u001b[39mfrom\u001b[39;00m \u001b[39mumap\u001b[39;00m \u001b[39mimport\u001b[39;00m UMAP\n\u001b[0;32m     25\u001b[0m \u001b[39mfrom\u001b[39;00m \u001b[39msklearn\u001b[39;00m\u001b[39m.\u001b[39;00m\u001b[39mpreprocessing\u001b[39;00m \u001b[39mimport\u001b[39;00m normalize\n",
      "File \u001b[1;32mc:\\Users\\poomk\\miniconda3\\envs\\dataenv\\lib\\site-packages\\hdbscan\\__init__.py:1\u001b[0m, in \u001b[0;36m<module>\u001b[1;34m\u001b[0m\n\u001b[1;32m----> 1\u001b[0m \u001b[39mfrom\u001b[39;00m \u001b[39m.\u001b[39;00m\u001b[39mhdbscan_\u001b[39;00m \u001b[39mimport\u001b[39;00m HDBSCAN, hdbscan\n\u001b[0;32m      2\u001b[0m \u001b[39mfrom\u001b[39;00m \u001b[39m.\u001b[39;00m\u001b[39mrobust_single_linkage_\u001b[39;00m \u001b[39mimport\u001b[39;00m RobustSingleLinkage, robust_single_linkage\n\u001b[0;32m      3\u001b[0m \u001b[39mfrom\u001b[39;00m \u001b[39m.\u001b[39;00m\u001b[39mvalidity\u001b[39;00m \u001b[39mimport\u001b[39;00m validity_index\n",
      "File \u001b[1;32mc:\\Users\\poomk\\miniconda3\\envs\\dataenv\\lib\\site-packages\\hdbscan\\hdbscan_.py:20\u001b[0m, in \u001b[0;36m<module>\u001b[1;34m\u001b[0m\n\u001b[0;32m     16\u001b[0m \u001b[39mfrom\u001b[39;00m \u001b[39mjoblib\u001b[39;00m\u001b[39m.\u001b[39;00m\u001b[39mparallel\u001b[39;00m \u001b[39mimport\u001b[39;00m cpu_count\n\u001b[0;32m     18\u001b[0m \u001b[39mfrom\u001b[39;00m \u001b[39mscipy\u001b[39;00m\u001b[39m.\u001b[39;00m\u001b[39msparse\u001b[39;00m \u001b[39mimport\u001b[39;00m csgraph\n\u001b[1;32m---> 20\u001b[0m \u001b[39mfrom\u001b[39;00m \u001b[39m.\u001b[39;00m\u001b[39m_hdbscan_linkage\u001b[39;00m \u001b[39mimport\u001b[39;00m (\n\u001b[0;32m     21\u001b[0m     single_linkage,\n\u001b[0;32m     22\u001b[0m     mst_linkage_core,\n\u001b[0;32m     23\u001b[0m     mst_linkage_core_vector,\n\u001b[0;32m     24\u001b[0m     label,\n\u001b[0;32m     25\u001b[0m )\n\u001b[0;32m     26\u001b[0m \u001b[39mfrom\u001b[39;00m \u001b[39m.\u001b[39;00m\u001b[39m_hdbscan_tree\u001b[39;00m \u001b[39mimport\u001b[39;00m (\n\u001b[0;32m     27\u001b[0m     condense_tree,\n\u001b[0;32m     28\u001b[0m     compute_stability,\n\u001b[0;32m     29\u001b[0m     get_clusters,\n\u001b[0;32m     30\u001b[0m     outlier_scores,\n\u001b[0;32m     31\u001b[0m )\n\u001b[0;32m     32\u001b[0m \u001b[39mfrom\u001b[39;00m \u001b[39m.\u001b[39;00m\u001b[39m_hdbscan_reachability\u001b[39;00m \u001b[39mimport\u001b[39;00m mutual_reachability, sparse_mutual_reachability\n",
      "File \u001b[1;32mhdbscan\\_hdbscan_linkage.pyx:1\u001b[0m, in \u001b[0;36minit hdbscan._hdbscan_linkage\u001b[1;34m()\u001b[0m\n",
      "File \u001b[1;32mhdbscan\\dist_metrics.pyx:13\u001b[0m, in \u001b[0;36minit hdbscan.dist_metrics\u001b[1;34m()\u001b[0m\n",
      "File \u001b[1;32m__init__.pxd:944\u001b[0m, in \u001b[0;36mnumpy.import_array\u001b[1;34m()\u001b[0m\n",
      "\u001b[1;31mImportError\u001b[0m: numpy.core.multiarray failed to import"
     ]
    }
   ],
   "source": [
    "import os\n",
    "import json\n",
    "import sys\n",
    "import glob\n",
    "import numpy as np\n",
    "import pandas as pd\n",
    "import pickle\n",
    "import pycaret\n",
    "\n",
    "from bertopic import BERTopic\n",
    "from yellowbrick.cluster import SilhouetteVisualizer\n",
    "\n",
    "from sentence_transformers import SentenceTransformer, util\n",
    "\n",
    "import warnings\n",
    "warnings.filterwarnings(\"ignore\")"
   ]
  },
  {
   "cell_type": "code",
   "execution_count": null,
   "metadata": {},
   "outputs": [],
   "source": []
  },
  {
   "cell_type": "code",
   "execution_count": 21,
   "metadata": {},
   "outputs": [
    {
     "data": {
      "text/plain": [
       "(tensor([[-0.0313, -0.0150, -0.0006,  ...,  0.0447, -0.0176, -0.0370],\n",
       "         [-0.0168,  0.0209, -0.0274,  ..., -0.0035, -0.0133,  0.0259],\n",
       "         [ 0.0151,  0.0208, -0.0065,  ...,  0.0728, -0.0307, -0.0515],\n",
       "         ...,\n",
       "         [-0.0303, -0.0342, -0.0244,  ...,  0.0129, -0.0141, -0.0380],\n",
       "         [-0.0509, -0.0455, -0.0220,  ...,  0.0224,  0.0002, -0.0097],\n",
       "         [-0.0075, -0.0047, -0.0154,  ...,  0.0279,  0.0229, -0.0375]]),\n",
       " array([39838, 39838, 39838, ..., 17009, 17009, 17009]),\n",
       " array(['County Jail Blues Lyrics[Verse]', 'They picked me up',\n",
       "        'Put me in the county jail', ...,\n",
       "        'If you wanted to spend some time with me',\n",
       "        'You should have respected my virtue',\n",
       "        \"You know what I'm sayin'You might also likeEmbed\"], dtype='<U1837'),\n",
       "                               artist                        title  \\\n",
       " 0                     A Few Good Men                       Tonite   \n",
       " 1                     A Few Good Men                 Have I Never   \n",
       " 2                     A Few Good Men   Don't Cry (Behind My Back)   \n",
       " 3                A Flock Of Seagulls     Modern Love Is Automatic   \n",
       " 4                A Flock Of Seagulls                      Windows   \n",
       " ...                              ...                          ...   \n",
       " 90717  Merle Haggard & The Strangers  The Seashores Of Old Mexico   \n",
       " 90718  Merle Haggard & The Strangers     You'll Always Be Special   \n",
       " 90719  Merle Haggard & The Strangers           Always Wanting You   \n",
       " 90720  Merle Haggard & The Strangers  A Man's Gotta Give Up A Lot   \n",
       " 90721  Merle Haggard & The Strangers       It's All In The Movies   \n",
       " \n",
       "        danceability  energy   key  loudness  mode  speechiness  acousticness  \\\n",
       " 0             0.615   0.673   5.0    -8.501   0.0       0.1150        0.0429   \n",
       " 1             0.717   0.377   4.0    -8.680   1.0       0.0288        0.2820   \n",
       " 2             0.774   0.691  10.0    -6.815   1.0       0.0403        0.0827   \n",
       " 3             0.323   0.821   7.0    -6.245   1.0       0.1090        0.0444   \n",
       " 4             0.629   0.683   0.0   -12.306   1.0       0.0324        0.1200   \n",
       " ...             ...     ...   ...       ...   ...          ...           ...   \n",
       " 90717         0.611   0.348  10.0   -11.815   1.0       0.0362        0.5100   \n",
       " 90718         0.312   0.243   8.0   -13.515   1.0       0.0303        0.7910   \n",
       " 90719         0.585   0.309   7.0   -13.670   1.0       0.0245        0.8580   \n",
       " 90720         0.738   0.529   5.0   -11.433   1.0       0.0446        0.7270   \n",
       " 90721         0.638   0.423   9.0   -12.427   1.0       0.0375        0.8350   \n",
       " \n",
       "        instrumentalness  ...  valence    tempo  duration  time_signature  \\\n",
       " 0              0.000000  ...    0.831  178.124  254360.0             4.0   \n",
       " 1              0.000000  ...    0.161  120.036  336533.0             4.0   \n",
       " 2              0.000000  ...    0.850  134.050  308267.0             4.0   \n",
       " 3              0.979000  ...    0.192  162.700  230200.0             4.0   \n",
       " 4              0.480000  ...    0.708  150.083  210827.0             4.0   \n",
       " ...                 ...  ...      ...      ...       ...             ...   \n",
       " 90717          0.000252  ...    0.689   81.310  225120.0             3.0   \n",
       " 90718          0.000038  ...    0.360   77.160  154987.0             3.0   \n",
       " 90719          0.267000  ...    0.520   96.106  188760.0             4.0   \n",
       " 90720          0.000034  ...    0.877  139.217  154973.0             4.0   \n",
       " 90721          0.000862  ...    0.567   89.061  198080.0             4.0   \n",
       " \n",
       "                                                   lyrics  genius_id  \\\n",
       " 0      Tonite LyricsYou know I really want to love yo...  1382268.0   \n",
       " 1      Have I Never LyricsHave I never told you I lov...  1187594.0   \n",
       " 2      Don’t Cry (Behind My Back) LyricsDon't cry, do...   897142.0   \n",
       " 3      Modern Love Is Automatic LyricsShe's an automa...   969269.0   \n",
       " 4      Windows LyricsMy phobia has got me and I dare ...  1510901.0   \n",
       " ...                                                  ...        ...   \n",
       " 90717  Willie Nelson Cleanup Page LyricsTracking Shee...  4523569.0   \n",
       " 90718  MusiCares Person of the Year Speech LyricsI'm ...   701981.0   \n",
       " 90719  Little Dorrit (Chap 1.1) LyricsSun and Shadow\\...   159929.0   \n",
       " 90720  2016 White House Correspondents’ Dinner Speech...  2466391.0   \n",
       " 90721  Songs That Reference Drugs LyricsIn alphabetic...  1453509.0   \n",
       " \n",
       "                                               annotation  \\\n",
       " 0                                                     []   \n",
       " 1                                                     []   \n",
       " 2                                                     []   \n",
       " 3                                                     []   \n",
       " 4                                                     []   \n",
       " ...                                                  ...   \n",
       " 90717  [('Music from Songwriter (1984) (with Kris Kri...   \n",
       " 90718  [('Merle Haggard didn’t even think much of my ...   \n",
       " 90719  [('‘How goes the world this forenoon, gentleme...   \n",
       " 90720  [('I think Fox News secretly likes Beyoncé, th...   \n",
       " 90721  [('Jim Stafford', [[\"Try a little and before y...   \n",
       " \n",
       "                                              lyrics_list   line_len  song_len  \n",
       " 0      ['Tonite LyricsYou know I really want to love ...   6.666667        66  \n",
       " 1      ['Have I Never LyricsHave I never told you I l...   8.196078        51  \n",
       " 2      [\"Don’t Cry (Behind My Back) LyricsDon't cry, ...   5.371429        70  \n",
       " 3      [\"Modern Love Is Automatic LyricsShe's an auto...   3.147059        34  \n",
       " 4      ['Windows LyricsMy phobia has got me and I dar...   8.758621        29  \n",
       " ...                                                  ...        ...       ...  \n",
       " 90717  ['Willie Nelson Cleanup Page LyricsTracking Sh...   5.173077       208  \n",
       " 90718  [\"MusiCares Person of the Year Speech LyricsI'...  21.456432       241  \n",
       " 90719  ['Little Dorrit (Chap 1.1) LyricsSun and Shado...  24.838565       223  \n",
       " 90720  ['2016 White House Correspondents’ Dinner Spee...  15.821229       179  \n",
       " 90721  ['Songs That Reference Drugs LyricsIn alphabet...   4.709898       293  \n",
       " \n",
       " [90722 rows x 21 columns],\n",
       " 0        Tonite LyricsYou know I really want to love yo...\n",
       " 1        Have I Never LyricsHave I never told you I lov...\n",
       " 2        Don’t Cry (Behind My Back) LyricsDon't cry, do...\n",
       " 3        Modern Love Is Automatic LyricsShe's an automa...\n",
       " 4        Windows LyricsMy phobia has got me and I dare ...\n",
       "                                ...                        \n",
       " 90717    Willie Nelson Cleanup Page LyricsTracking Shee...\n",
       " 90718    MusiCares Person of the Year Speech LyricsI'm ...\n",
       " 90719    Little Dorrit (Chap 1.1) LyricsSun and Shadow\\...\n",
       " 90720    2016 White House Correspondents’ Dinner Speech...\n",
       " 90721    Songs That Reference Drugs LyricsIn alphabetic...\n",
       " Name: lyrics, Length: 90722, dtype: object)"
      ]
     },
     "execution_count": 21,
     "metadata": {},
     "output_type": "execute_result"
    }
   ],
   "source": [
    "# transform lyrics to vector embedding\n",
    "# get the vector embedding of the sampling 1000 dataset from the 100k songs data >> preprocess_lyrics.ipynb\n",
    "with open('../pickle_objects/embeddings_indices.obj', 'rb') as f:\n",
    "    embeddings, arr_song_idx, arr_lyrics_idx = pickle.load(f)\n",
    "\n",
    "with open('../pickle_objects/sample_song_lyrics_set.obj', 'rb') as f:\n",
    "    songs_set, lyrics_set = pickle.load(f)\n",
    "embeddings, arr_song_idx, arr_lyrics_idx, songs_set, lyrics_set"
   ]
  },
  {
   "cell_type": "code",
   "execution_count": 20,
   "metadata": {},
   "outputs": [],
   "source": [
    "# getting songs index to be trained with bertopic\n",
    "songs_idx = sorted(list(set(arr_song_idx)))"
   ]
  },
  {
   "cell_type": "code",
   "execution_count": 25,
   "metadata": {},
   "outputs": [],
   "source": [
    "# getting songs in the index\n",
    "sample_songs_set = songs_set.loc[songs_set.index.isin(songs_idx)]\n",
    "lyrics = sample_songs_set['lyrics']"
   ]
  },
  {
   "cell_type": "code",
   "execution_count": 26,
   "metadata": {},
   "outputs": [
    {
     "ename": "NameError",
     "evalue": "name 'BERTopic' is not defined",
     "output_type": "error",
     "traceback": [
      "\u001b[1;31m---------------------------------------------------------------------------\u001b[0m",
      "\u001b[1;31mNameError\u001b[0m                                 Traceback (most recent call last)",
      "\u001b[1;32mc:\\Users\\poomk\\OneDrive\\Desktop\\songsdata\\data_cleaning_preprocess\\3_EDA_visualization.ipynb Cell 5\u001b[0m in \u001b[0;36m<cell line: 1>\u001b[1;34m()\u001b[0m\n\u001b[1;32m----> <a href='vscode-notebook-cell:/c%3A/Users/poomk/OneDrive/Desktop/songsdata/data_cleaning_preprocess/3_EDA_visualization.ipynb#W6sZmlsZQ%3D%3D?line=0'>1</a>\u001b[0m topic_model \u001b[39m=\u001b[39m BERTopic()\n\u001b[0;32m      <a href='vscode-notebook-cell:/c%3A/Users/poomk/OneDrive/Desktop/songsdata/data_cleaning_preprocess/3_EDA_visualization.ipynb#W6sZmlsZQ%3D%3D?line=1'>2</a>\u001b[0m topics, probs \u001b[39m=\u001b[39m topic_model\u001b[39m.\u001b[39mfit_transform(lyrics)\n",
      "\u001b[1;31mNameError\u001b[0m: name 'BERTopic' is not defined"
     ]
    }
   ],
   "source": [
    "topic_model = BERTopic()\n",
    "topics, probs = topic_model.fit_transform(lyrics)"
   ]
  },
  {
   "cell_type": "code",
   "execution_count": null,
   "metadata": {},
   "outputs": [],
   "source": [
    "# finding cluster using all the features\n"
   ]
  },
  {
   "cell_type": "code",
   "execution_count": null,
   "metadata": {},
   "outputs": [],
   "source": [
    "# cluster visualization with text and valence"
   ]
  }
 ],
 "metadata": {
  "kernelspec": {
   "display_name": "Python 3.10.6 ('dataenv')",
   "language": "python",
   "name": "python3"
  },
  "language_info": {
   "codemirror_mode": {
    "name": "ipython",
    "version": 3
   },
   "file_extension": ".py",
   "mimetype": "text/x-python",
   "name": "python",
   "nbconvert_exporter": "python",
   "pygments_lexer": "ipython3",
   "version": "3.10.6"
  },
  "orig_nbformat": 4,
  "vscode": {
   "interpreter": {
    "hash": "467f60c46b88ea196e8e4e51716c4f14b05141d893e1660e0038b81da854c476"
   }
  }
 },
 "nbformat": 4,
 "nbformat_minor": 2
}
