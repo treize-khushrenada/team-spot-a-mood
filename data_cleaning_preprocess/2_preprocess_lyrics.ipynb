{
  "cells": [
    {
      "cell_type": "code",
      "execution_count": 3,
      "metadata": {
        "id": "ZvkdKD_xQayU"
      },
      "outputs": [],
      "source": [
        "import numpy as np\n",
        "import pandas as pd\n",
        "import os\n",
        "import nltk\n",
        "import pickle\n",
        "import re\n",
        "\n",
        "from nltk.tokenize import word_tokenize\n",
        "from sentence_transformers import SentenceTransformer, util"
      ]
    },
    {
      "cell_type": "code",
      "execution_count": 4,
      "metadata": {},
      "outputs": [],
      "source": [
        "# get songs data from test set\n",
        "\n",
        "with open('../App/pickle_objects/train_test.pickle', 'rb') as f:\n",
        "        l_train_test = pickle.load(f)\n",
        "\n",
        "songs_set = l_train_test[1]"
      ]
    },
    {
      "cell_type": "code",
      "execution_count": 7,
      "metadata": {
        "id": "kqJud0xoQayX"
      },
      "outputs": [],
      "source": [
        "# uncomment to extract .csv data\n",
        "# get the cleaned songs data\n",
        "# songs_set = pd.read_csv('../songsdata/cleaned_data/cleaned_songs.csv')"
      ]
    },
    {
      "cell_type": "code",
      "execution_count": 9,
      "metadata": {},
      "outputs": [
        {
          "data": {
            "text/plain": [
              "70228    Wait for a Minute Lyrics[Intro: Tyga]\\nYeah, w...\n",
              "80689    ’Til A Tear Becomes A Rose LyricsDarling I can...\n",
              "31384    Once You Hit the Road Lyrics3:45, you come hom...\n",
              "89877    13 Lyrics[Instrumental Intro]\\n\\n[Verse 1]\\nTh...\n",
              "36590    Superstar Talking Blues LyricsYou say you've b...\n",
              "Name: lyrics, dtype: object"
            ]
          },
          "execution_count": 9,
          "metadata": {},
          "output_type": "execute_result"
        }
      ],
      "source": [
        "songs_set['lyrics'].head()"
      ]
    },
    {
      "cell_type": "code",
      "execution_count": 10,
      "metadata": {
        "id": "Tpn4i7DRQayY"
      },
      "outputs": [],
      "source": [
        "# get songs lyrics set\n",
        "lyrics_set = songs_set['lyrics']"
      ]
    },
    {
      "cell_type": "code",
      "execution_count": 11,
      "metadata": {
        "id": "1gDLg9kCQayZ"
      },
      "outputs": [],
      "source": [
        "# pickle the sets\n",
        "l_pickle = [songs_set, lyrics_set]\n",
        "with open('../App/pickle_objects/song_lyrics_set_test.pickle', 'wb') as f:\n",
        "    pickle.dump(l_pickle, f)"
      ]
    },
    {
      "cell_type": "code",
      "execution_count": 12,
      "metadata": {
        "id": "FmgoSxI8QayZ"
      },
      "outputs": [],
      "source": [
        "# get embedding function\n",
        "def embeddings_gen(lyrics_set, model_name = \"all-distilroberta-v1\"):\n",
        "    # Create mdoel\n",
        "    model = SentenceTransformer(model_name)\n",
        "    # Create bag of lyrics lines with their corresponding song_ids\n",
        "    l_lyrics_lines =[]\n",
        "    l_song_idx =[]\n",
        "    for idx in lyrics_set.index:\n",
        "        lyrics = lyrics_set[idx]\n",
        "        lyrics_lines = re.split('\\n',lyrics)\n",
        "        # Condition: do not include lyrics lines that are more than 512 tokens\n",
        "        if any(len(word_tokenize(x)) >= 512 for x in lyrics_lines):\n",
        "            continue\n",
        "        l_lyrics_lines.extend(lyrics_lines)\n",
        "        l_song_idx.extend([idx] * len(lyrics_lines))\n",
        "\n",
        "    # For invert indexing //Store related song ids as np array\n",
        "    arr_song_idx = np.array(l_song_idx)\n",
        "    # Store lyrics lines as np array\n",
        "    arr_lyrics_idx = np.array(l_lyrics_lines)\n",
        "\n",
        "    embeddings = model.encode(l_lyrics_lines, convert_to_numpy=True)\n",
        "\n",
        "    return embeddings, arr_song_idx, arr_lyrics_idx\n"
      ]
    },
    {
      "cell_type": "code",
      "execution_count": 13,
      "metadata": {
        "id": "zGfWRHVAQaya"
      },
      "outputs": [],
      "source": [
        "# uncomment if further down-sampling on test set is needed\n",
        "#with open('../pickle_objects/song_lyrics_set.pickle', 'rb') as f:\n",
        "    # l_pickle = pickle.load(f)\n",
        "\n",
        "#downsample_size = \n",
        "\n",
        "#lyrics_set = l_pickle[1].sample(downsample_size, random_state=42)"
      ]
    },
    {
      "cell_type": "code",
      "execution_count": 14,
      "metadata": {},
      "outputs": [],
      "source": [
        "# # transform lyrics to vector embedding\n",
        "# # get the vector embedding of the sampling 1000 dataset from the 100k songs data >> preprocess_lyrics.ipynb\n",
        "# with open('../App/pickle_objects/embeddings_indices.obj', 'rb') as f:\n",
        "#     embeddings, arr_song_idx, arr_lyrics_idx = pickle.load(f)\n",
        "\n",
        "# with open('../App/pickle_objects/sample_song_lyrics_set.obj', 'rb') as f:\n",
        "#     songs_set, lyrics_set = pickle.load(f)\n",
        "\n",
        "# # getting songs index to be trained with bertopic\n",
        "# songs_idx = sorted(list(set(arr_song_idx)))\n",
        "\n",
        "# # getting songs in the index\n",
        "# sample_songs_set = songs_set.loc[songs_set.index.isin(songs_idx)]\n",
        "# lyrics_set = sample_songs_set['lyrics']"
      ]
    },
    {
      "cell_type": "code",
      "execution_count": 15,
      "metadata": {
        "id": "tyNUig4XQaya"
      },
      "outputs": [],
      "source": [
        "embeddings, arr_song_idx, arr_lyrics_idx = embeddings_gen(lyrics_set)"
      ]
    },
    {
      "cell_type": "code",
      "execution_count": 16,
      "metadata": {
        "id": "Mi7HmNHxQayb"
      },
      "outputs": [],
      "source": [
        "with open('../App/pickle_objects/embeddings_test.pickle', 'wb') as f:\n",
        "    pickle.dump(embeddings, f)"
      ]
    },
    {
      "cell_type": "code",
      "execution_count": 18,
      "metadata": {},
      "outputs": [],
      "source": [
        "with open('../App/pickle_objects/arr_song_idx_test.pickle', 'wb') as f:\n",
        "    pickle.dump(arr_song_idx, f)"
      ]
    },
    {
      "cell_type": "code",
      "execution_count": 19,
      "metadata": {},
      "outputs": [],
      "source": [
        "with open('../App/pickle_objects/arr_lyrics_idx_test.pickle', 'wb') as f:\n",
        "    pickle.dump(arr_lyrics_idx, f)"
      ]
    },
    {
      "cell_type": "code",
      "execution_count": 23,
      "metadata": {},
      "outputs": [
        {
          "name": "stderr",
          "output_type": "stream",
          "text": [
            "ftfy or spacy is not installed using BERT BasicTokenizer instead of ftfy.\n"
          ]
        }
      ],
      "source": [
        "# get embedding function\n",
        "def embeddings_gen_clip(lyrics_set, model_name = \"clip-ViT-B-32\"):\n",
        "    # Create mdoel\n",
        "    model = SentenceTransformer(model_name)\n",
        "    # Create bag of lyrics lines with their corresponding song_ids\n",
        "    l_lyrics_lines =[]\n",
        "    l_song_idx =[]\n",
        "    for idx in lyrics_set.index:\n",
        "        lyrics = lyrics_set[idx]\n",
        "        lyrics_lines = re.split('\\n',lyrics)\n",
        "        # Condition: CLIP max token limit: 77; Do not include lyrics lines that are more than 77 tokens\n",
        "        if any(len(word_tokenize(x)) >= 77 for x in lyrics_lines):\n",
        "            continue\n",
        "        l_lyrics_lines.extend(lyrics_lines)\n",
        "        l_song_idx.extend([idx] * len(lyrics_lines))\n",
        "\n",
        "    # For invert indexing //Store related song ids as np array\n",
        "    arr_song_idx = np.array(l_song_idx)\n",
        "    # Store lyrics lines as np array\n",
        "    arr_lyrics_idx = np.array(l_lyrics_lines)\n",
        "\n",
        "    embeddings = model.encode(l_lyrics_lines, convert_to_numpy=True)\n",
        "\n",
        "    return embeddings, arr_song_idx, arr_lyrics_idx\n",
        "\n",
        "embeddings_clip, arr_song_idx_clip, arr_lyrics_idx_clip = embeddings_gen_clip(lyrics_set)"
      ]
    },
    {
      "cell_type": "code",
      "execution_count": null,
      "metadata": {},
      "outputs": [],
      "source": [
        "with open('../App/pickle_objects/embeddings_clip.pickle', 'wb') as f:\n",
        "    pickle.dump(embeddings_clip, f)"
      ]
    },
    {
      "cell_type": "code",
      "execution_count": null,
      "metadata": {},
      "outputs": [],
      "source": [
        "with open('../App/pickle_objects/arr_song_idx_clip.pickle', 'wb') as f:\n",
        "    pickle.dump(arr_song_idx_clip, f)"
      ]
    },
    {
      "cell_type": "code",
      "execution_count": null,
      "metadata": {},
      "outputs": [],
      "source": [
        "with open('../App/pickle_objects/arr_lyrics_idx_clip.pickle', 'wb') as f:\n",
        "    pickle.dump(arr_lyrics_idx_clip, f)"
      ]
    }
  ],
  "metadata": {
    "colab": {
      "provenance": []
    },
    "kernelspec": {
      "display_name": "Python 3.8.13 ('sam')",
      "language": "python",
      "name": "python3"
    },
    "language_info": {
      "codemirror_mode": {
        "name": "ipython",
        "version": 3
      },
      "file_extension": ".py",
      "mimetype": "text/x-python",
      "name": "python",
      "nbconvert_exporter": "python",
      "pygments_lexer": "ipython3",
      "version": "3.8.13"
    },
    "orig_nbformat": 4,
    "vscode": {
      "interpreter": {
        "hash": "c1e9e221c7a8b896049a5643dbc55f3c8ad76c8b9df1c7f7e9d1ce1ca950a084"
      }
    }
  },
  "nbformat": 4,
  "nbformat_minor": 0
}
