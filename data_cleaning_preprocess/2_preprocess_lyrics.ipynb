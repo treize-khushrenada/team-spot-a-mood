{
  "cells": [
    {
      "cell_type": "code",
      "execution_count": 2,
      "metadata": {
        "id": "ZvkdKD_xQayU"
      },
      "outputs": [
        {
          "name": "stderr",
          "output_type": "stream",
          "text": [
            "c:\\Users\\poomk\\miniconda3\\envs\\dataenv\\lib\\site-packages\\huggingface_hub\\snapshot_download.py:6: FutureWarning: snapshot_download.py has been made private and will no longer be available from version 0.11. Please use `from huggingface_hub import snapshot_download` to import the only public function in this module. Other members of the file may be changed without a deprecation notice.\n",
            "  warnings.warn(\n"
          ]
        }
      ],
      "source": [
        "import numpy as np\n",
        "import pandas as pd\n",
        "import os\n",
        "import nltk\n",
        "import pickle\n",
        "import re\n",
        "\n",
        "from nltk.tokenize import word_tokenize\n",
        "from sentence_transformers import SentenceTransformer, util"
      ]
    },
    {
      "cell_type": "code",
      "execution_count": 3,
      "metadata": {
        "id": "kqJud0xoQayX"
      },
      "outputs": [],
      "source": [
        "# get the cleaned songs data\n",
        "songs_set = pd.read_csv('../songsdata/cleaned_data/cleaned_songs.csv')"
      ]
    },
    {
      "cell_type": "code",
      "execution_count": 4,
      "metadata": {
        "id": "Tpn4i7DRQayY"
      },
      "outputs": [],
      "source": [
        "# get songs lyrics set\n",
        "lyrics_set = songs_set['lyrics']"
      ]
    },
    {
      "cell_type": "code",
      "execution_count": 5,
      "metadata": {
        "id": "1gDLg9kCQayZ"
      },
      "outputs": [
        {
          "ename": "FileNotFoundError",
          "evalue": "[Errno 2] No such file or directory: '../pickle_objects/song_lyrics_set.obj'",
          "output_type": "error",
          "traceback": [
            "\u001b[1;31m---------------------------------------------------------------------------\u001b[0m",
            "\u001b[1;31mFileNotFoundError\u001b[0m                         Traceback (most recent call last)",
            "\u001b[1;32mc:\\Users\\poomk\\OneDrive\\Desktop\\songsdata\\data_cleaning_preprocess\\2_preprocess_lyrics.ipynb Cell 4\u001b[0m in \u001b[0;36m<cell line: 3>\u001b[1;34m()\u001b[0m\n\u001b[0;32m      <a href='vscode-notebook-cell:/c%3A/Users/poomk/OneDrive/Desktop/songsdata/data_cleaning_preprocess/2_preprocess_lyrics.ipynb#W3sZmlsZQ%3D%3D?line=0'>1</a>\u001b[0m \u001b[39m# pickle the sets\u001b[39;00m\n\u001b[0;32m      <a href='vscode-notebook-cell:/c%3A/Users/poomk/OneDrive/Desktop/songsdata/data_cleaning_preprocess/2_preprocess_lyrics.ipynb#W3sZmlsZQ%3D%3D?line=1'>2</a>\u001b[0m l_pickle \u001b[39m=\u001b[39m [songs_set, lyrics_set]\n\u001b[1;32m----> <a href='vscode-notebook-cell:/c%3A/Users/poomk/OneDrive/Desktop/songsdata/data_cleaning_preprocess/2_preprocess_lyrics.ipynb#W3sZmlsZQ%3D%3D?line=2'>3</a>\u001b[0m \u001b[39mwith\u001b[39;00m \u001b[39mopen\u001b[39;49m(\u001b[39m'\u001b[39;49m\u001b[39m../pickle_objects/song_lyrics_set.obj\u001b[39;49m\u001b[39m'\u001b[39;49m, \u001b[39m'\u001b[39;49m\u001b[39mwb\u001b[39;49m\u001b[39m'\u001b[39;49m) \u001b[39mas\u001b[39;00m f:\n\u001b[0;32m      <a href='vscode-notebook-cell:/c%3A/Users/poomk/OneDrive/Desktop/songsdata/data_cleaning_preprocess/2_preprocess_lyrics.ipynb#W3sZmlsZQ%3D%3D?line=3'>4</a>\u001b[0m     pickle\u001b[39m.\u001b[39mdump(l_pickle, f)\n",
            "\u001b[1;31mFileNotFoundError\u001b[0m: [Errno 2] No such file or directory: '../pickle_objects/song_lyrics_set.obj'"
          ]
        }
      ],
      "source": [
        "# pickle the sets\n",
        "l_pickle = [songs_set, lyrics_set]\n",
        "with open('../pickle_objects/song_lyrics_set.obj', 'wb') as f:\n",
        "    pickle.dump(l_pickle, f)"
      ]
    },
    {
      "cell_type": "code",
      "execution_count": null,
      "metadata": {
        "id": "FmgoSxI8QayZ"
      },
      "outputs": [],
      "source": [
        "# get embedding function\n",
        "def embeddings_gen(lyrics_set, model_name = \"all-distilroberta-v1\"):\n",
        "    # Create mdoel\n",
        "    model = SentenceTransformer(model_name)\n",
        "    # Create bag of lyrics lines with their corresponding song_ids\n",
        "    l_lyrics_lines =[]\n",
        "    l_song_idx =[]\n",
        "    for idx in lyrics_set.index:\n",
        "        lyrics = lyrics_set[idx]\n",
        "        lyrics_lines = re.split('\\n',lyrics)\n",
        "        # Condition: do not include lyrics lines that are more than 512 tokens\n",
        "        if any(len(word_tokenize(x)) >= 512 for x in lyrics_lines):\n",
        "            continue\n",
        "        l_lyrics_lines.extend(lyrics_lines)\n",
        "        l_song_idx.extend([idx] * len(lyrics_lines))\n",
        "\n",
        "    # For invert indexing //Store related song ids as np array\n",
        "    arr_song_idx = np.array(l_song_idx)\n",
        "    # Store lyrics lines as np array\n",
        "    arr_lyrics_idx = np.array(l_lyrics_lines)\n",
        "\n",
        "    embeddings = model.encode(l_lyrics_lines, convert_to_tensor=True)\n",
        "    \n",
        "    return embeddings, arr_song_idx, arr_lyrics_idx\n"
      ]
    },
    {
      "cell_type": "code",
      "execution_count": 7,
      "metadata": {
        "id": "zGfWRHVAQaya"
      },
      "outputs": [],
      "source": [
        "# # for based-line model embedding pls uncomment this line\n",
        "# with open('../pickle_objects/song_lyrics_set.obj', 'rb') as f:\n",
        "#     l_pickle = pickle.load(f)\n",
        "\n",
        "# lyrics_set = l_pickle[1].sample(1000, random_state=42)"
      ]
    },
    {
      "cell_type": "code",
      "execution_count": null,
      "metadata": {},
      "outputs": [
        {
          "ename": "NameError",
          "evalue": "name 'lyrics_set' is not defined",
          "output_type": "error",
          "traceback": [
            "\u001b[1;31m---------------------------------------------------------------------------\u001b[0m",
            "\u001b[1;31mNameError\u001b[0m                                 Traceback (most recent call last)",
            "\u001b[1;32mc:\\Users\\poomk\\OneDrive\\Desktop\\songsdata\\data_cleaning_preprocess\\2_preprocess_lyrics.ipynb Cell 7\u001b[0m in \u001b[0;36m<cell line: 1>\u001b[1;34m()\u001b[0m\n\u001b[1;32m----> <a href='vscode-notebook-cell:/c%3A/Users/poomk/OneDrive/Desktop/songsdata/data_cleaning_preprocess/2_preprocess_lyrics.ipynb#X11sZmlsZQ%3D%3D?line=0'>1</a>\u001b[0m lyrics_set\n",
            "\u001b[1;31mNameError\u001b[0m: name 'lyrics_set' is not defined"
          ]
        }
      ],
      "source": [
        "# transform lyrics to vector embedding\n",
        "# get the vector embedding of the sampling 1000 dataset from the 100k songs data >> preprocess_lyrics.ipynb\n",
        "with open('../App/pickle_objects/embeddings_indices.obj', 'rb') as f:\n",
        "    embeddings, arr_song_idx, arr_lyrics_idx = pickle.load(f)\n",
        "\n",
        "with open('../App/pickle_objects/sample_song_lyrics_set.obj', 'rb') as f:\n",
        "    songs_set, lyrics_set = pickle.load(f)\n",
        "\n",
        "# getting songs index to be trained with bertopic\n",
        "songs_idx = sorted(list(set(arr_song_idx)))\n",
        "\n",
        "# getting songs in the index\n",
        "sample_songs_set = songs_set.loc[songs_set.index.isin(songs_idx)]\n",
        "lyrics_set = sample_songs_set['lyrics']"
      ]
    },
    {
      "cell_type": "code",
      "execution_count": null,
      "metadata": {
        "id": "tyNUig4XQaya"
      },
      "outputs": [],
      "source": [
        "embeddings, arr_song_idx, arr_lyrics_idx = embeddings_gen(lyrics_set)"
      ]
    },
    {
      "cell_type": "code",
      "execution_count": null,
      "metadata": {
        "id": "Mi7HmNHxQayb"
      },
      "outputs": [],
      "source": [
        "l_pickle = [embeddings, arr_song_idx, arr_lyrics_idx]\n",
        "with open('../pickle_objects/embeddings_indices.obj', 'wb') as f:\n",
        "    pickle.dump(l_pickle, f)"
      ]
    }
  ],
  "metadata": {
    "colab": {
      "provenance": []
    },
    "kernelspec": {
      "display_name": "Python 3.10.6 ('dataenv')",
      "language": "python",
      "name": "python3"
    },
    "language_info": {
      "codemirror_mode": {
        "name": "ipython",
        "version": 3
      },
      "file_extension": ".py",
      "mimetype": "text/x-python",
      "name": "python",
      "nbconvert_exporter": "python",
      "pygments_lexer": "ipython3",
      "version": "3.10.6"
    },
    "orig_nbformat": 4,
    "vscode": {
      "interpreter": {
        "hash": "467f60c46b88ea196e8e4e51716c4f14b05141d893e1660e0038b81da854c476"
      }
    }
  },
  "nbformat": 4,
  "nbformat_minor": 0
}
