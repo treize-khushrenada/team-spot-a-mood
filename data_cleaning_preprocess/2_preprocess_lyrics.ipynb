{
  "cells": [
    {
      "cell_type": "code",
      "execution_count": 48,
      "metadata": {
        "id": "ZvkdKD_xQayU"
      },
      "outputs": [],
      "source": [
        "import numpy as np\n",
        "import pandas as pd\n",
        "import os\n",
        "import nltk\n",
        "import pickle\n",
        "import re\n",
        "\n",
        "from PIL import Image\n",
        "\n",
        "from nltk.tokenize import word_tokenize\n",
        "from sentence_transformers import SentenceTransformer, util"
      ]
    },
    {
      "cell_type": "code",
      "execution_count": 49,
      "metadata": {},
      "outputs": [],
      "source": [
        "# get songs data from test set\n",
        "\n",
        "with open('../App/pickle_objects/song_lyrics_set_test.pickle', 'rb') as f:\n",
        "        l_train_test = pickle.load(f)\n",
        "\n",
        "lyrics_set = l_train_test[1]"
      ]
    },
    {
      "cell_type": "code",
      "execution_count": 3,
      "metadata": {
        "id": "kqJud0xoQayX"
      },
      "outputs": [],
      "source": [
        "# uncomment to extract .csv data\n",
        "# get the cleaned songs data\n",
        "# songs_set = pd.read_csv('../songsdata/cleaned_data/cleaned_songs.csv')"
      ]
    },
    {
      "cell_type": "code",
      "execution_count": 50,
      "metadata": {},
      "outputs": [
        {
          "data": {
            "text/plain": [
              "51788    Break Apart Her Heart Lyrics[Verse 1]\\nWhen yo...\n",
              "31697    Alphabet Rap Lyrics(A, B, C, D\\nA\\nA)\\n\\nA, B,...\n",
              "49885    Can It Be All So Simple (Remix) Lyrics[Skit: R...\n",
              "3349     Chance Lyrics[Verse 1]\\nAll the rain came down...\n",
              "53551    Paper Face LyricsI still have the photograph t...\n",
              "                               ...                        \n",
              "32746    Beautiful LyricsEstos son \"Los Benjamins\", pap...\n",
              "38112    A Dog’s Life Lyrics[Verse 1]\\nIf I had my life...\n",
              "28910    August 2018 Album Release Calendar Lyrics8/1\\n...\n",
              "23081    Can You Feel Me LyricsTell me tell me why you ...\n",
              "30333    Sitting on the Roof Of the World Lyrics[Verse ...\n",
              "Name: lyrics, Length: 3000, dtype: object"
            ]
          },
          "execution_count": 50,
          "metadata": {},
          "output_type": "execute_result"
        }
      ],
      "source": [
        "lyrics_set"
      ]
    },
    {
      "cell_type": "code",
      "execution_count": 41,
      "metadata": {
        "id": "Tpn4i7DRQayY"
      },
      "outputs": [],
      "source": [
        "# get songs lyrics set\n",
        "lyrics_set = songs_set['lyrics']"
      ]
    },
    {
      "cell_type": "code",
      "execution_count": 5,
      "metadata": {
        "id": "1gDLg9kCQayZ"
      },
      "outputs": [],
      "source": [
        "# pickle the sets\n",
        "l_pickle = [songs_set, lyrics_set]\n",
        "with open('../App_stcloud/pickle_objects/song_lyrics_set_test.pickle', 'wb') as f:\n",
        "    pickle.dump(l_pickle, f)"
      ]
    },
    {
      "cell_type": "code",
      "execution_count": 6,
      "metadata": {
        "id": "FmgoSxI8QayZ"
      },
      "outputs": [],
      "source": [
        "# get embedding function\n",
        "def embeddings_gen(lyrics_set, model_name = \"all-distilroberta-v1\"):\n",
        "    # Create mdoel\n",
        "    model = SentenceTransformer(model_name)\n",
        "    # Create bag of lyrics lines with their corresponding song_ids\n",
        "    l_lyrics_lines =[]\n",
        "    l_song_idx =[]\n",
        "    for idx in lyrics_set.index:\n",
        "        lyrics = lyrics_set[idx]\n",
        "        lyrics_lines = re.split('\\n',lyrics)\n",
        "        # Condition: do not include lyrics lines that are more than 512 tokens\n",
        "        if any(len(word_tokenize(x)) >= 512 for x in lyrics_lines):\n",
        "            continue\n",
        "        l_lyrics_lines.extend(lyrics_lines)\n",
        "        l_song_idx.extend([idx] * len(lyrics_lines))\n",
        "\n",
        "    # For invert indexing //Store related song ids as np array\n",
        "    arr_song_idx = np.array(l_song_idx)\n",
        "    # Store lyrics lines as np array\n",
        "    arr_lyrics_idx = np.array(l_lyrics_lines)\n",
        "\n",
        "    embeddings = model.encode(l_lyrics_lines, convert_to_tensor=True)\n",
        "\n",
        "    return embeddings, arr_song_idx, arr_lyrics_idx\n"
      ]
    },
    {
      "cell_type": "code",
      "execution_count": 7,
      "metadata": {
        "id": "zGfWRHVAQaya"
      },
      "outputs": [],
      "source": [
        "# uncomment if further down-sampling on test set is needed\n",
        "#with open('../pickle_objects/song_lyrics_set.pickle', 'rb') as f:\n",
        "    # l_pickle = pickle.load(f)\n",
        "\n",
        "#downsample_size = \n",
        "\n",
        "#lyrics_set = l_pickle[1].sample(downsample_size, random_state=42)"
      ]
    },
    {
      "cell_type": "code",
      "execution_count": 14,
      "metadata": {},
      "outputs": [],
      "source": [
        "# # transform lyrics to vector embedding\n",
        "# # get the vector embedding of the sampling 1000 dataset from the 100k songs data >> preprocess_lyrics.ipynb\n",
        "# with open('../App/pickle_objects/embeddings_indices.obj', 'rb') as f:\n",
        "#     embeddings, arr_song_idx, arr_lyrics_idx = pickle.load(f)\n",
        "\n",
        "# with open('../App/pickle_objects/sample_song_lyrics_set.obj', 'rb') as f:\n",
        "#     songs_set, lyrics_set = pickle.load(f)\n",
        "\n",
        "# # getting songs index to be trained with bertopic\n",
        "# songs_idx = sorted(list(set(arr_song_idx)))\n",
        "\n",
        "# # getting songs in the index\n",
        "# sample_songs_set = songs_set.loc[songs_set.index.isin(songs_idx)]\n",
        "# lyrics_set = sample_songs_set['lyrics']"
      ]
    },
    {
      "cell_type": "code",
      "execution_count": 10,
      "metadata": {
        "id": "tyNUig4XQaya"
      },
      "outputs": [],
      "source": [
        "# gen embedding for based model\n",
        "# embeddings, arr_song_idx, arr_lyrics_idx = embeddings_gen(lyrics_set)"
      ]
    },
    {
      "cell_type": "code",
      "execution_count": 8,
      "metadata": {},
      "outputs": [],
      "source": [
        "# gen embedding from fine-tuned model\n",
        "embeddings, arr_song_idx, arr_lyrics_idx = embeddings_gen(lyrics_set, model_name = '../App_stcloud/pickle_objects/ft_model_full_annotations')"
      ]
    },
    {
      "cell_type": "code",
      "execution_count": 9,
      "metadata": {
        "id": "Mi7HmNHxQayb"
      },
      "outputs": [],
      "source": [
        "with open('../App_stcloud/pickle_objects/embeddings_test.pickle', 'wb') as f:\n",
        "    pickle.dump(embeddings, f)"
      ]
    },
    {
      "cell_type": "code",
      "execution_count": 10,
      "metadata": {},
      "outputs": [],
      "source": [
        "with open('../App_stcloud/pickle_objects/arr_song_idx_test.pickle', 'wb') as f:\n",
        "    pickle.dump(arr_song_idx, f)"
      ]
    },
    {
      "cell_type": "code",
      "execution_count": 11,
      "metadata": {},
      "outputs": [],
      "source": [
        "with open('../App_stcloud/pickle_objects/arr_lyrics_idx_test.pickle', 'wb') as f:\n",
        "    pickle.dump(arr_lyrics_idx, f)"
      ]
    },
    {
      "cell_type": "code",
      "execution_count": 32,
      "metadata": {},
      "outputs": [
        {
          "name": "stderr",
          "output_type": "stream",
          "text": [
            "ftfy or spacy is not installed using BERT BasicTokenizer instead of ftfy.\n"
          ]
        }
      ],
      "source": [
        "# get embedding function\n",
        "def embeddings_gen_clip(lyrics_set, model_name = \"clip-ViT-B-32\"):\n",
        "    # Create mdoel\n",
        "    model = SentenceTransformer(model_name)\n",
        "    # Create bag of lyrics lines with their corresponding song_ids\n",
        "    l_lyrics_lines =[]\n",
        "    l_song_idx =[]\n",
        "    for idx in lyrics_set.index:\n",
        "        lyrics = lyrics_set[idx]\n",
        "        lyrics_lines = re.split('\\n',lyrics)\n",
        "        # Condition: CLIP max token limit: 77; Do not include lyrics lines that are more than 77 tokens\n",
        "        if any(len(word_tokenize(x)) >= 20 for x in lyrics_lines):\n",
        "            continue\n",
        "        l_lyrics_lines.extend(lyrics_lines)\n",
        "        l_song_idx.extend([idx] * len(lyrics_lines))\n",
        "\n",
        "    # For invert indexing //Store related song ids as np array\n",
        "    arr_song_idx = np.array(l_song_idx)\n",
        "    # Store lyrics lines as np array\n",
        "    arr_lyrics_idx = np.array(l_lyrics_lines)\n",
        "\n",
        "    embeddings = model.encode(l_lyrics_lines, convert_to_tensor=True)\n",
        "\n",
        "    return embeddings, arr_song_idx, arr_lyrics_idx\n",
        "\n",
        "embeddings_clip, arr_song_idx_clip, arr_lyrics_idx_clip = embeddings_gen_clip(lyrics_set)"
      ]
    },
    {
      "cell_type": "code",
      "execution_count": 45,
      "metadata": {},
      "outputs": [],
      "source": [
        "with open('../App/pickle_objects/embeddings_clip.pickle', 'wb') as f:\n",
        "    pickle.dump(embeddings_clip, f)"
      ]
    },
    {
      "cell_type": "code",
      "execution_count": 46,
      "metadata": {},
      "outputs": [],
      "source": [
        "with open('../App/pickle_objects/arr_song_idx_clip.pickle', 'wb') as f:\n",
        "    pickle.dump(arr_song_idx_clip, f)"
      ]
    },
    {
      "cell_type": "code",
      "execution_count": 47,
      "metadata": {},
      "outputs": [],
      "source": [
        "with open('../App/pickle_objects/arr_lyrics_idx_clip.pickle', 'wb') as f:\n",
        "    pickle.dump(arr_lyrics_idx_clip, f)"
      ]
    },
    {
      "cell_type": "code",
      "execution_count": null,
      "metadata": {},
      "outputs": [],
      "source": []
    }
  ],
  "metadata": {
    "colab": {
      "provenance": []
    },
    "kernelspec": {
      "display_name": "Python 3.8.13 ('sam')",
      "language": "python",
      "name": "python3"
    },
    "language_info": {
      "codemirror_mode": {
        "name": "ipython",
        "version": 3
      },
      "file_extension": ".py",
      "mimetype": "text/x-python",
      "name": "python",
      "nbconvert_exporter": "python",
      "pygments_lexer": "ipython3",
      "version": "3.8.13"
    },
    "orig_nbformat": 4,
    "vscode": {
      "interpreter": {
        "hash": "c1e9e221c7a8b896049a5643dbc55f3c8ad76c8b9df1c7f7e9d1ce1ca950a084"
      }
    }
  },
  "nbformat": 4,
  "nbformat_minor": 0
}
