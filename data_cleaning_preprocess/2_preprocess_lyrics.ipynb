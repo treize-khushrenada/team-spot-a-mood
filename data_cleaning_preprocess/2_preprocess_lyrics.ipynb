{
  "cells": [
    {
      "cell_type": "code",
      "execution_count": 1,
      "metadata": {
        "id": "ZvkdKD_xQayU"
      },
      "outputs": [],
      "source": [
        "import numpy as np\n",
        "import pandas as pd\n",
        "import os\n",
        "import nltk\n",
        "import pickle\n",
        "import re\n",
        "\n",
        "from PIL import Image\n",
        "\n",
        "from nltk.tokenize import word_tokenize\n",
        "from sentence_transformers import SentenceTransformer, util"
      ]
    },
    {
      "cell_type": "code",
      "execution_count": 2,
      "metadata": {},
      "outputs": [],
      "source": [
        "# get songs data from test set\n",
        "\n",
        "with open('../App_stcloud/pickle_objects/embeddings_df.pickle', 'rb') as f:\n",
        "        l_train_test = pickle.load(f)\n",
        "\n",
        "songs_set = l_train_test"
      ]
    },
    {
      "cell_type": "code",
      "execution_count": 3,
      "metadata": {
        "id": "kqJud0xoQayX"
      },
      "outputs": [],
      "source": [
        "# uncomment to extract .csv data\n",
        "# get the cleaned songs data\n",
        "# songs_set = pd.read_csv('../songsdata/cleaned_data/cleaned_songs.csv')"
      ]
    },
    {
      "cell_type": "code",
      "execution_count": 4,
      "metadata": {},
      "outputs": [
        {
          "data": {
            "text/plain": [
              "51788    Break Apart Her Heart Lyrics[Verse 1]\\nWhen yo...\n",
              "31697    Alphabet Rap Lyrics(A, B, C, D\\nA\\nA)\\n\\nA, B,...\n",
              "49885    Can It Be All So Simple (Remix) Lyrics[Skit: R...\n",
              "3349     Chance Lyrics[Verse 1]\\nAll the rain came down...\n",
              "53551    Paper Face LyricsI still have the photograph t...\n",
              "Name: lyrics, dtype: object"
            ]
          },
          "execution_count": 4,
          "metadata": {},
          "output_type": "execute_result"
        }
      ],
      "source": [
        "songs_set['lyrics'].head()"
      ]
    },
    {
      "cell_type": "code",
      "execution_count": 5,
      "metadata": {
        "id": "Tpn4i7DRQayY"
      },
      "outputs": [],
      "source": [
        "# get songs lyrics set\n",
        "lyrics_set = songs_set['lyrics']"
      ]
    },
    {
      "cell_type": "code",
      "execution_count": 11,
      "metadata": {
        "id": "1gDLg9kCQayZ"
      },
      "outputs": [],
      "source": [
        "# pickle the sets\n",
        "l_pickle = [songs_set, lyrics_set]\n",
        "with open('../App_stcloud/pickle_objects/song_lyrics_set_test.pickle', 'wb') as f:\n",
        "    pickle.dump(l_pickle, f)"
      ]
    },
    {
      "cell_type": "code",
      "execution_count": 6,
      "metadata": {
        "id": "FmgoSxI8QayZ"
      },
      "outputs": [],
      "source": [
        "# get embedding function\n",
        "def embeddings_gen(lyrics_set, model_name = \"all-distilroberta-v1\"):\n",
        "    # Create mdoel\n",
        "    model = SentenceTransformer(model_name)\n",
        "    # Create bag of lyrics lines with their corresponding song_ids\n",
        "    l_lyrics_lines =[]\n",
        "    l_song_idx =[]\n",
        "    for idx in lyrics_set.index:\n",
        "        lyrics = lyrics_set[idx]\n",
        "        lyrics_lines = re.split('\\n',lyrics)\n",
        "        # Condition: do not include lyrics lines that are more than 512 tokens\n",
        "        if any(len(word_tokenize(x)) >= 512 for x in lyrics_lines):\n",
        "            continue\n",
        "        l_lyrics_lines.extend(lyrics_lines)\n",
        "        l_song_idx.extend([idx] * len(lyrics_lines))\n",
        "\n",
        "    # For invert indexing //Store related song ids as np array\n",
        "    arr_song_idx = np.array(l_song_idx)\n",
        "    # Store lyrics lines as np array\n",
        "    arr_lyrics_idx = np.array(l_lyrics_lines)\n",
        "\n",
        "    embeddings = model.encode(l_lyrics_lines, convert_to_tensor=True)\n",
        "\n",
        "    return embeddings, arr_song_idx, arr_lyrics_idx\n"
      ]
    },
    {
      "cell_type": "code",
      "execution_count": 7,
      "metadata": {
        "id": "zGfWRHVAQaya"
      },
      "outputs": [],
      "source": [
        "# uncomment if further down-sampling on test set is needed\n",
        "#with open('../pickle_objects/song_lyrics_set.pickle', 'rb') as f:\n",
        "    # l_pickle = pickle.load(f)\n",
        "\n",
        "#downsample_size = \n",
        "\n",
        "#lyrics_set = l_pickle[1].sample(downsample_size, random_state=42)"
      ]
    },
    {
      "cell_type": "code",
      "execution_count": 14,
      "metadata": {},
      "outputs": [],
      "source": [
        "# # transform lyrics to vector embedding\n",
        "# # get the vector embedding of the sampling 1000 dataset from the 100k songs data >> preprocess_lyrics.ipynb\n",
        "# with open('../App/pickle_objects/embeddings_indices.obj', 'rb') as f:\n",
        "#     embeddings, arr_song_idx, arr_lyrics_idx = pickle.load(f)\n",
        "\n",
        "# with open('../App/pickle_objects/sample_song_lyrics_set.obj', 'rb') as f:\n",
        "#     songs_set, lyrics_set = pickle.load(f)\n",
        "\n",
        "# # getting songs index to be trained with bertopic\n",
        "# songs_idx = sorted(list(set(arr_song_idx)))\n",
        "\n",
        "# # getting songs in the index\n",
        "# sample_songs_set = songs_set.loc[songs_set.index.isin(songs_idx)]\n",
        "# lyrics_set = sample_songs_set['lyrics']"
      ]
    },
    {
      "cell_type": "code",
      "execution_count": 10,
      "metadata": {
        "id": "tyNUig4XQaya"
      },
      "outputs": [],
      "source": [
        "# gen embedding for based model\n",
        "# embeddings, arr_song_idx, arr_lyrics_idx = embeddings_gen(lyrics_set)"
      ]
    },
    {
      "cell_type": "code",
      "execution_count": 8,
      "metadata": {},
      "outputs": [],
      "source": [
        "# gen embedding from fine-tuned model\n",
        "embeddings, arr_song_idx, arr_lyrics_idx = embeddings_gen(lyrics_set, model_name = '../App_stcloud/pickle_objects/ft_model_full_annotations')"
      ]
    },
    {
      "cell_type": "code",
      "execution_count": 9,
      "metadata": {
        "id": "Mi7HmNHxQayb"
      },
      "outputs": [],
      "source": [
        "with open('../App_stcloud/pickle_objects/embeddings_test.pickle', 'wb') as f:\n",
        "    pickle.dump(embeddings, f)"
      ]
    },
    {
      "cell_type": "code",
      "execution_count": 10,
      "metadata": {},
      "outputs": [],
      "source": [
        "with open('../App_stcloud/pickle_objects/arr_song_idx_test.pickle', 'wb') as f:\n",
        "    pickle.dump(arr_song_idx, f)"
      ]
    },
    {
      "cell_type": "code",
      "execution_count": 11,
      "metadata": {},
      "outputs": [],
      "source": [
        "with open('../App_stcloud/pickle_objects/arr_lyrics_idx_test.pickle', 'wb') as f:\n",
        "    pickle.dump(arr_lyrics_idx, f)"
      ]
    },
    {
      "cell_type": "code",
      "execution_count": 23,
      "metadata": {},
      "outputs": [
        {
          "name": "stderr",
          "output_type": "stream",
          "text": [
            "ftfy or spacy is not installed using BERT BasicTokenizer instead of ftfy.\n"
          ]
        }
      ],
      "source": [
        "# get embedding function\n",
        "def embeddings_gen_clip(lyrics_set, model_name = \"clip-ViT-B-32\"):\n",
        "    # Create mdoel\n",
        "    model = SentenceTransformer(model_name)\n",
        "    # Create bag of lyrics lines with their corresponding song_ids\n",
        "    l_lyrics_lines =[]\n",
        "    l_song_idx =[]\n",
        "    for idx in lyrics_set.index:\n",
        "        lyrics = lyrics_set[idx]\n",
        "        lyrics_lines = re.split('\\n',lyrics)\n",
        "        # Condition: CLIP max token limit: 77; Do not include lyrics lines that are more than 77 tokens\n",
        "        if any(len(word_tokenize(x)) >= 77 for x in lyrics_lines):\n",
        "            continue\n",
        "        l_lyrics_lines.extend(lyrics_lines)\n",
        "        l_song_idx.extend([idx] * len(lyrics_lines))\n",
        "\n",
        "    # For invert indexing //Store related song ids as np array\n",
        "    arr_song_idx = np.array(l_song_idx)\n",
        "    # Store lyrics lines as np array\n",
        "    arr_lyrics_idx = np.array(l_lyrics_lines)\n",
        "\n",
        "    embeddings = model.encode(l_lyrics_lines, convert_to_numpy=True)\n",
        "\n",
        "    return embeddings, arr_song_idx, arr_lyrics_idx\n",
        "\n",
        "embeddings_clip, arr_song_idx_clip, arr_lyrics_idx_clip = embeddings_gen_clip(lyrics_set)"
      ]
    },
    {
      "cell_type": "code",
      "execution_count": null,
      "metadata": {},
      "outputs": [],
      "source": [
        "with open('../App_stcloud/pickle_objects/embeddings_clip.pickle', 'wb') as f:\n",
        "    pickle.dump(embeddings_clip, f)"
      ]
    },
    {
      "cell_type": "code",
      "execution_count": null,
      "metadata": {},
      "outputs": [],
      "source": [
        "with open('../App_stcloud/pickle_objects/arr_song_idx_clip.pickle', 'wb') as f:\n",
        "    pickle.dump(arr_song_idx_clip, f)"
      ]
    },
    {
      "cell_type": "code",
      "execution_count": null,
      "metadata": {},
      "outputs": [],
      "source": [
        "with open('../App_stcloud/pickle_objects/arr_lyrics_idx_clip.pickle', 'wb') as f:\n",
        "    pickle.dump(arr_lyrics_idx_clip, f)"
      ]
    },
    {
      "cell_type": "code",
      "execution_count": 7,
      "metadata": {},
      "outputs": [
        {
          "ename": "KeyError",
          "evalue": "'model_name'",
          "output_type": "error",
          "traceback": [
            "\u001b[1;31m---------------------------------------------------------------------------\u001b[0m",
            "\u001b[1;31mKeyError\u001b[0m                                  Traceback (most recent call last)",
            "Cell \u001b[1;32mIn [7], line 1\u001b[0m\n\u001b[1;32m----> 1\u001b[0m model \u001b[39m=\u001b[39m SentenceTransformer(\u001b[39m'\u001b[39;49m\u001b[39mclip-ViT-B-32\u001b[39;49m\u001b[39m'\u001b[39;49m)\n",
            "File \u001b[1;32mc:\\Users\\poomk\\miniconda3\\envs\\dataenv\\lib\\site-packages\\sentence_transformers\\SentenceTransformer.py:90\u001b[0m, in \u001b[0;36mSentenceTransformer.__init__\u001b[1;34m(self, model_name_or_path, modules, device, cache_folder)\u001b[0m\n\u001b[0;32m     87\u001b[0m         os\u001b[39m.\u001b[39mrename(model_path_tmp, model_path)\n\u001b[0;32m     89\u001b[0m \u001b[39mif\u001b[39;00m os\u001b[39m.\u001b[39mpath\u001b[39m.\u001b[39mexists(os\u001b[39m.\u001b[39mpath\u001b[39m.\u001b[39mjoin(model_path, \u001b[39m'\u001b[39m\u001b[39mmodules.json\u001b[39m\u001b[39m'\u001b[39m)):    \u001b[39m#Load as SentenceTransformer model\u001b[39;00m\n\u001b[1;32m---> 90\u001b[0m     modules \u001b[39m=\u001b[39m \u001b[39mself\u001b[39;49m\u001b[39m.\u001b[39;49m_load_sbert_model(model_path)\n\u001b[0;32m     91\u001b[0m \u001b[39melse\u001b[39;00m:   \u001b[39m#Load with AutoModel\u001b[39;00m\n\u001b[0;32m     92\u001b[0m     modules \u001b[39m=\u001b[39m \u001b[39mself\u001b[39m\u001b[39m.\u001b[39m_load_auto_model(model_path)\n",
            "File \u001b[1;32mc:\\Users\\poomk\\miniconda3\\envs\\dataenv\\lib\\site-packages\\sentence_transformers\\SentenceTransformer.py:822\u001b[0m, in \u001b[0;36mSentenceTransformer._load_sbert_model\u001b[1;34m(self, model_path)\u001b[0m\n\u001b[0;32m    820\u001b[0m \u001b[39mfor\u001b[39;00m module_config \u001b[39min\u001b[39;00m modules_config:\n\u001b[0;32m    821\u001b[0m     module_class \u001b[39m=\u001b[39m import_from_string(module_config[\u001b[39m'\u001b[39m\u001b[39mtype\u001b[39m\u001b[39m'\u001b[39m])\n\u001b[1;32m--> 822\u001b[0m     module \u001b[39m=\u001b[39m module_class\u001b[39m.\u001b[39;49mload(os\u001b[39m.\u001b[39;49mpath\u001b[39m.\u001b[39;49mjoin(model_path, module_config[\u001b[39m'\u001b[39;49m\u001b[39mpath\u001b[39;49m\u001b[39m'\u001b[39;49m]))\n\u001b[0;32m    823\u001b[0m     modules[module_config[\u001b[39m'\u001b[39m\u001b[39mname\u001b[39m\u001b[39m'\u001b[39m]] \u001b[39m=\u001b[39m module\n\u001b[0;32m    825\u001b[0m \u001b[39mreturn\u001b[39;00m modules\n",
            "File \u001b[1;32mc:\\Users\\poomk\\miniconda3\\envs\\dataenv\\lib\\site-packages\\sentence_transformers\\models\\CLIPModel.py:90\u001b[0m, in \u001b[0;36mCLIPModel.load\u001b[1;34m(input_path)\u001b[0m\n\u001b[0;32m     87\u001b[0m \u001b[39mwith\u001b[39;00m \u001b[39mopen\u001b[39m(os\u001b[39m.\u001b[39mpath\u001b[39m.\u001b[39mjoin(input_path, \u001b[39m'\u001b[39m\u001b[39mconfig.json\u001b[39m\u001b[39m'\u001b[39m)) \u001b[39mas\u001b[39;00m fIn:\n\u001b[0;32m     88\u001b[0m     config \u001b[39m=\u001b[39m json\u001b[39m.\u001b[39mload(fIn)\n\u001b[1;32m---> 90\u001b[0m model_path \u001b[39m=\u001b[39m os\u001b[39m.\u001b[39mpath\u001b[39m.\u001b[39mjoin(input_path, config[\u001b[39m'\u001b[39;49m\u001b[39mmodel_name\u001b[39;49m\u001b[39m'\u001b[39;49m])\n\u001b[0;32m     91\u001b[0m tokenizer_path \u001b[39m=\u001b[39m os\u001b[39m.\u001b[39mpath\u001b[39m.\u001b[39mjoin(input_path, config[\u001b[39m'\u001b[39m\u001b[39mtokenizer_name\u001b[39m\u001b[39m'\u001b[39m])\n\u001b[0;32m     92\u001b[0m \u001b[39mreturn\u001b[39;00m CLIPModel(tokenizer_path\u001b[39m=\u001b[39mtokenizer_path, model_name\u001b[39m=\u001b[39mmodel_path)\n",
            "\u001b[1;31mKeyError\u001b[0m: 'model_name'"
          ]
        }
      ],
      "source": [
        "model = SentenceTransformer('clip-ViT-B-32')"
      ]
    },
    {
      "cell_type": "code",
      "execution_count": null,
      "metadata": {},
      "outputs": [],
      "source": []
    }
  ],
  "metadata": {
    "colab": {
      "provenance": []
    },
    "kernelspec": {
      "display_name": "dataenv",
      "language": "python",
      "name": "python3"
    },
    "language_info": {
      "codemirror_mode": {
        "name": "ipython",
        "version": 3
      },
      "file_extension": ".py",
      "mimetype": "text/x-python",
      "name": "python",
      "nbconvert_exporter": "python",
      "pygments_lexer": "ipython3",
      "version": "3.10.8"
    },
    "orig_nbformat": 4,
    "vscode": {
      "interpreter": {
        "hash": "467f60c46b88ea196e8e4e51716c4f14b05141d893e1660e0038b81da854c476"
      }
    }
  },
  "nbformat": 4,
  "nbformat_minor": 0
}
