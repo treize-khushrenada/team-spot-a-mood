{
 "cells": [
  {
   "cell_type": "code",
   "execution_count": 1,
   "metadata": {},
   "outputs": [
    {
     "name": "stderr",
     "output_type": "stream",
     "text": [
      "c:\\Users\\poomk\\miniconda3\\envs\\dataenv\\lib\\site-packages\\huggingface_hub\\snapshot_download.py:6: FutureWarning: snapshot_download.py has been made private and will no longer be available from version 0.11. Please use `from huggingface_hub import snapshot_download` to import the only public function in this module. Other members of the file may be changed without a deprecation notice.\n",
      "  warnings.warn(\n"
     ]
    }
   ],
   "source": [
    "import os\n",
    "import glob\n",
    "import pickle\n",
    "import numpy as np\n",
    "import pandas as pd\n",
    "from yellowbrick.cluster import SilhouetteVisualizer\n",
    "\n",
    "from sentence_transformers import SentenceTransformer, util\n",
    "\n",
    "import warnings\n",
    "warnings.filterwarnings(\"ignore\")"
   ]
  },
  {
   "cell_type": "code",
   "execution_count": 2,
   "metadata": {},
   "outputs": [],
   "source": [
    "# load data\n",
    "path = '../songsdata'\n",
    "all_files = glob.glob(os.path.join(path, \"*.csv\"))\n",
    "df = pd.concat((pd.read_csv(f) for f in all_files), ignore_index=True)"
   ]
  },
  {
   "cell_type": "code",
   "execution_count": 3,
   "metadata": {},
   "outputs": [
    {
     "data": {
      "text/plain": [
       "(100000, 18)"
      ]
     },
     "execution_count": 3,
     "metadata": {},
     "output_type": "execute_result"
    }
   ],
   "source": [
    "df.shape"
   ]
  },
  {
   "cell_type": "code",
   "execution_count": 4,
   "metadata": {},
   "outputs": [
    {
     "data": {
      "text/html": [
       "<div>\n",
       "<style scoped>\n",
       "    .dataframe tbody tr th:only-of-type {\n",
       "        vertical-align: middle;\n",
       "    }\n",
       "\n",
       "    .dataframe tbody tr th {\n",
       "        vertical-align: top;\n",
       "    }\n",
       "\n",
       "    .dataframe thead th {\n",
       "        text-align: right;\n",
       "    }\n",
       "</style>\n",
       "<table border=\"1\" class=\"dataframe\">\n",
       "  <thead>\n",
       "    <tr style=\"text-align: right;\">\n",
       "      <th></th>\n",
       "      <th>artist</th>\n",
       "      <th>title</th>\n",
       "      <th>danceability</th>\n",
       "      <th>energy</th>\n",
       "      <th>key</th>\n",
       "      <th>loudness</th>\n",
       "      <th>mode</th>\n",
       "      <th>speechiness</th>\n",
       "      <th>acousticness</th>\n",
       "      <th>instrumentalness</th>\n",
       "      <th>liveness</th>\n",
       "      <th>valence</th>\n",
       "      <th>tempo</th>\n",
       "      <th>duration</th>\n",
       "      <th>time_signature</th>\n",
       "      <th>lyrics</th>\n",
       "      <th>genius_id</th>\n",
       "      <th>annotation</th>\n",
       "    </tr>\n",
       "  </thead>\n",
       "  <tbody>\n",
       "    <tr>\n",
       "      <th>0</th>\n",
       "      <td>A Few Good Men</td>\n",
       "      <td>Tonite</td>\n",
       "      <td>0.615</td>\n",
       "      <td>0.673</td>\n",
       "      <td>5.0</td>\n",
       "      <td>-8.501</td>\n",
       "      <td>0.0</td>\n",
       "      <td>0.1150</td>\n",
       "      <td>0.0429</td>\n",
       "      <td>0.0</td>\n",
       "      <td>0.2610</td>\n",
       "      <td>0.831</td>\n",
       "      <td>178.124</td>\n",
       "      <td>254360.0</td>\n",
       "      <td>4.0</td>\n",
       "      <td>Tonite LyricsYou know I really want to love yo...</td>\n",
       "      <td>1382268.0</td>\n",
       "      <td>[]</td>\n",
       "    </tr>\n",
       "    <tr>\n",
       "      <th>1</th>\n",
       "      <td>A Few Good Men</td>\n",
       "      <td>Have I Never</td>\n",
       "      <td>0.717</td>\n",
       "      <td>0.377</td>\n",
       "      <td>4.0</td>\n",
       "      <td>-8.680</td>\n",
       "      <td>1.0</td>\n",
       "      <td>0.0288</td>\n",
       "      <td>0.2820</td>\n",
       "      <td>0.0</td>\n",
       "      <td>0.1380</td>\n",
       "      <td>0.161</td>\n",
       "      <td>120.036</td>\n",
       "      <td>336533.0</td>\n",
       "      <td>4.0</td>\n",
       "      <td>Have I Never LyricsHave I never told you I lov...</td>\n",
       "      <td>1187594.0</td>\n",
       "      <td>[]</td>\n",
       "    </tr>\n",
       "    <tr>\n",
       "      <th>2</th>\n",
       "      <td>A Few Good Men</td>\n",
       "      <td>Don't Cry (Behind My Back)</td>\n",
       "      <td>0.774</td>\n",
       "      <td>0.691</td>\n",
       "      <td>10.0</td>\n",
       "      <td>-6.815</td>\n",
       "      <td>1.0</td>\n",
       "      <td>0.0403</td>\n",
       "      <td>0.0827</td>\n",
       "      <td>0.0</td>\n",
       "      <td>0.0736</td>\n",
       "      <td>0.850</td>\n",
       "      <td>134.050</td>\n",
       "      <td>308267.0</td>\n",
       "      <td>4.0</td>\n",
       "      <td>Don’t Cry (Behind My Back) LyricsDon't cry, do...</td>\n",
       "      <td>897142.0</td>\n",
       "      <td>[]</td>\n",
       "    </tr>\n",
       "  </tbody>\n",
       "</table>\n",
       "</div>"
      ],
      "text/plain": [
       "           artist                       title  danceability  energy   key  \\\n",
       "0  A Few Good Men                      Tonite         0.615   0.673   5.0   \n",
       "1  A Few Good Men                Have I Never         0.717   0.377   4.0   \n",
       "2  A Few Good Men  Don't Cry (Behind My Back)         0.774   0.691  10.0   \n",
       "\n",
       "   loudness  mode  speechiness  acousticness  instrumentalness  liveness  \\\n",
       "0    -8.501   0.0       0.1150        0.0429               0.0    0.2610   \n",
       "1    -8.680   1.0       0.0288        0.2820               0.0    0.1380   \n",
       "2    -6.815   1.0       0.0403        0.0827               0.0    0.0736   \n",
       "\n",
       "   valence    tempo  duration  time_signature  \\\n",
       "0    0.831  178.124  254360.0             4.0   \n",
       "1    0.161  120.036  336533.0             4.0   \n",
       "2    0.850  134.050  308267.0             4.0   \n",
       "\n",
       "                                              lyrics  genius_id annotation  \n",
       "0  Tonite LyricsYou know I really want to love yo...  1382268.0         []  \n",
       "1  Have I Never LyricsHave I never told you I lov...  1187594.0         []  \n",
       "2  Don’t Cry (Behind My Back) LyricsDon't cry, do...   897142.0         []  "
      ]
     },
     "execution_count": 4,
     "metadata": {},
     "output_type": "execute_result"
    }
   ],
   "source": [
    "df.head(3)"
   ]
  },
  {
   "cell_type": "code",
   "execution_count": 5,
   "metadata": {},
   "outputs": [
    {
     "name": "stdout",
     "output_type": "stream",
     "text": [
      "<class 'pandas.core.frame.DataFrame'>\n",
      "RangeIndex: 100000 entries, 0 to 99999\n",
      "Data columns (total 18 columns):\n",
      " #   Column            Non-Null Count  Dtype  \n",
      "---  ------            --------------  -----  \n",
      " 0   artist            98984 non-null  object \n",
      " 1   title             98895 non-null  object \n",
      " 2   danceability      98982 non-null  float64\n",
      " 3   energy            98982 non-null  float64\n",
      " 4   key               98982 non-null  float64\n",
      " 5   loudness          98982 non-null  float64\n",
      " 6   mode              98982 non-null  float64\n",
      " 7   speechiness       98982 non-null  float64\n",
      " 8   acousticness      98982 non-null  float64\n",
      " 9   instrumentalness  98982 non-null  float64\n",
      " 10  liveness          98982 non-null  float64\n",
      " 11  valence           98982 non-null  float64\n",
      " 12  tempo             98982 non-null  float64\n",
      " 13  duration          98982 non-null  float64\n",
      " 14  time_signature    98982 non-null  float64\n",
      " 15  lyrics            94703 non-null  object \n",
      " 16  genius_id         94653 non-null  float64\n",
      " 17  annotation        94653 non-null  object \n",
      "dtypes: float64(14), object(4)\n",
      "memory usage: 13.7+ MB\n"
     ]
    }
   ],
   "source": [
    "df.info()"
   ]
  },
  {
   "cell_type": "markdown",
   "metadata": {},
   "source": [
    "#### Data Cleaning\n",
    "based on the lyrics we got, we found there are some text which are not lyrics contained in the Genius API database. Hence, we need to filter out those text. We found that we might be able to filter through line length, since songs line would not be too long to fit with the song tempo. The songs length are normally within the similar length as well. So we filtered out with average line length and songs' length that is over 1 standard deviation."
   ]
  },
  {
   "cell_type": "code",
   "execution_count": 6,
   "metadata": {},
   "outputs": [],
   "source": [
    "# data cleaning\n",
    "df.lyrics = df.lyrics.astype(str)\n",
    "df['lyrics_list'] = df.lyrics.apply(lambda x: x.splitlines())"
   ]
  },
  {
   "cell_type": "code",
   "execution_count": 7,
   "metadata": {},
   "outputs": [],
   "source": [
    "pre_df = df.copy()"
   ]
  },
  {
   "cell_type": "code",
   "execution_count": 8,
   "metadata": {},
   "outputs": [],
   "source": [
    "# function to find average line length in song\n",
    "def avg_length(lyrics_list):\n",
    "    avg_len = np.mean([len(line.split()) for line in lyrics_list])\n",
    "    return avg_len\n",
    "    # for line in lyrics_list:\n",
    "    #     l = line.split()\n",
    "    #     length.append(len(l))"
   ]
  },
  {
   "cell_type": "code",
   "execution_count": 9,
   "metadata": {},
   "outputs": [],
   "source": [
    "pre_df['line_len'] = pre_df.lyrics_list.apply(lambda x : avg_length(x))\n",
    "pre_df['song_len'] = pre_df.lyrics_list.apply(lambda x : len(x))"
   ]
  },
  {
   "cell_type": "code",
   "execution_count": 10,
   "metadata": {},
   "outputs": [],
   "source": [
    "pre_df = pre_df[((pre_df.line_len - pre_df.line_len.mean())/pre_df.line_len.std()).abs() < 1]\n",
    "pre_df = pre_df[((pre_df.song_len - pre_df.song_len.mean())/pre_df.song_len.std()).abs() < 1]"
   ]
  },
  {
   "cell_type": "code",
   "execution_count": 11,
   "metadata": {},
   "outputs": [
    {
     "data": {
      "text/plain": [
       "(96155, 21)"
      ]
     },
     "execution_count": 11,
     "metadata": {},
     "output_type": "execute_result"
    }
   ],
   "source": [
    "pre_df.shape"
   ]
  },
  {
   "cell_type": "code",
   "execution_count": 12,
   "metadata": {},
   "outputs": [
    {
     "data": {
      "text/html": [
       "<div>\n",
       "<style scoped>\n",
       "    .dataframe tbody tr th:only-of-type {\n",
       "        vertical-align: middle;\n",
       "    }\n",
       "\n",
       "    .dataframe tbody tr th {\n",
       "        vertical-align: top;\n",
       "    }\n",
       "\n",
       "    .dataframe thead th {\n",
       "        text-align: right;\n",
       "    }\n",
       "</style>\n",
       "<table border=\"1\" class=\"dataframe\">\n",
       "  <thead>\n",
       "    <tr style=\"text-align: right;\">\n",
       "      <th></th>\n",
       "      <th>artist</th>\n",
       "      <th>title</th>\n",
       "      <th>danceability</th>\n",
       "      <th>energy</th>\n",
       "      <th>key</th>\n",
       "      <th>loudness</th>\n",
       "      <th>mode</th>\n",
       "      <th>speechiness</th>\n",
       "      <th>acousticness</th>\n",
       "      <th>instrumentalness</th>\n",
       "      <th>...</th>\n",
       "      <th>valence</th>\n",
       "      <th>tempo</th>\n",
       "      <th>duration</th>\n",
       "      <th>time_signature</th>\n",
       "      <th>lyrics</th>\n",
       "      <th>genius_id</th>\n",
       "      <th>annotation</th>\n",
       "      <th>lyrics_list</th>\n",
       "      <th>line_len</th>\n",
       "      <th>song_len</th>\n",
       "    </tr>\n",
       "  </thead>\n",
       "  <tbody>\n",
       "    <tr>\n",
       "      <th>0</th>\n",
       "      <td>A Few Good Men</td>\n",
       "      <td>Tonite</td>\n",
       "      <td>0.615</td>\n",
       "      <td>0.673</td>\n",
       "      <td>5.0</td>\n",
       "      <td>-8.501</td>\n",
       "      <td>0.0</td>\n",
       "      <td>0.1150</td>\n",
       "      <td>0.042900</td>\n",
       "      <td>0.000</td>\n",
       "      <td>...</td>\n",
       "      <td>0.831</td>\n",
       "      <td>178.124</td>\n",
       "      <td>254360.0</td>\n",
       "      <td>4.0</td>\n",
       "      <td>Tonite LyricsYou know I really want to love yo...</td>\n",
       "      <td>1382268.0</td>\n",
       "      <td>[]</td>\n",
       "      <td>[Tonite LyricsYou know I really want to love y...</td>\n",
       "      <td>6.666667</td>\n",
       "      <td>66</td>\n",
       "    </tr>\n",
       "    <tr>\n",
       "      <th>1</th>\n",
       "      <td>A Few Good Men</td>\n",
       "      <td>Have I Never</td>\n",
       "      <td>0.717</td>\n",
       "      <td>0.377</td>\n",
       "      <td>4.0</td>\n",
       "      <td>-8.680</td>\n",
       "      <td>1.0</td>\n",
       "      <td>0.0288</td>\n",
       "      <td>0.282000</td>\n",
       "      <td>0.000</td>\n",
       "      <td>...</td>\n",
       "      <td>0.161</td>\n",
       "      <td>120.036</td>\n",
       "      <td>336533.0</td>\n",
       "      <td>4.0</td>\n",
       "      <td>Have I Never LyricsHave I never told you I lov...</td>\n",
       "      <td>1187594.0</td>\n",
       "      <td>[]</td>\n",
       "      <td>[Have I Never LyricsHave I never told you I lo...</td>\n",
       "      <td>8.196078</td>\n",
       "      <td>51</td>\n",
       "    </tr>\n",
       "    <tr>\n",
       "      <th>2</th>\n",
       "      <td>A Few Good Men</td>\n",
       "      <td>Don't Cry (Behind My Back)</td>\n",
       "      <td>0.774</td>\n",
       "      <td>0.691</td>\n",
       "      <td>10.0</td>\n",
       "      <td>-6.815</td>\n",
       "      <td>1.0</td>\n",
       "      <td>0.0403</td>\n",
       "      <td>0.082700</td>\n",
       "      <td>0.000</td>\n",
       "      <td>...</td>\n",
       "      <td>0.850</td>\n",
       "      <td>134.050</td>\n",
       "      <td>308267.0</td>\n",
       "      <td>4.0</td>\n",
       "      <td>Don’t Cry (Behind My Back) LyricsDon't cry, do...</td>\n",
       "      <td>897142.0</td>\n",
       "      <td>[]</td>\n",
       "      <td>[Don’t Cry (Behind My Back) LyricsDon't cry, d...</td>\n",
       "      <td>5.371429</td>\n",
       "      <td>70</td>\n",
       "    </tr>\n",
       "    <tr>\n",
       "      <th>3</th>\n",
       "      <td>A Flock Of Seagulls</td>\n",
       "      <td>Modern Love Is Automatic</td>\n",
       "      <td>0.323</td>\n",
       "      <td>0.821</td>\n",
       "      <td>7.0</td>\n",
       "      <td>-6.245</td>\n",
       "      <td>1.0</td>\n",
       "      <td>0.1090</td>\n",
       "      <td>0.044400</td>\n",
       "      <td>0.979</td>\n",
       "      <td>...</td>\n",
       "      <td>0.192</td>\n",
       "      <td>162.700</td>\n",
       "      <td>230200.0</td>\n",
       "      <td>4.0</td>\n",
       "      <td>Modern Love Is Automatic LyricsShe's an automa...</td>\n",
       "      <td>969269.0</td>\n",
       "      <td>[]</td>\n",
       "      <td>[Modern Love Is Automatic LyricsShe's an autom...</td>\n",
       "      <td>3.147059</td>\n",
       "      <td>34</td>\n",
       "    </tr>\n",
       "    <tr>\n",
       "      <th>4</th>\n",
       "      <td>A Flock Of Seagulls</td>\n",
       "      <td>D.N.A.</td>\n",
       "      <td>0.477</td>\n",
       "      <td>0.746</td>\n",
       "      <td>0.0</td>\n",
       "      <td>-5.487</td>\n",
       "      <td>1.0</td>\n",
       "      <td>0.0322</td>\n",
       "      <td>0.000136</td>\n",
       "      <td>0.925</td>\n",
       "      <td>...</td>\n",
       "      <td>0.818</td>\n",
       "      <td>151.741</td>\n",
       "      <td>150227.0</td>\n",
       "      <td>4.0</td>\n",
       "      <td>nan</td>\n",
       "      <td>NaN</td>\n",
       "      <td>NaN</td>\n",
       "      <td>[nan]</td>\n",
       "      <td>1.000000</td>\n",
       "      <td>1</td>\n",
       "    </tr>\n",
       "  </tbody>\n",
       "</table>\n",
       "<p>5 rows × 21 columns</p>\n",
       "</div>"
      ],
      "text/plain": [
       "                artist                       title  danceability  energy  \\\n",
       "0       A Few Good Men                      Tonite         0.615   0.673   \n",
       "1       A Few Good Men                Have I Never         0.717   0.377   \n",
       "2       A Few Good Men  Don't Cry (Behind My Back)         0.774   0.691   \n",
       "3  A Flock Of Seagulls    Modern Love Is Automatic         0.323   0.821   \n",
       "4  A Flock Of Seagulls                      D.N.A.         0.477   0.746   \n",
       "\n",
       "    key  loudness  mode  speechiness  acousticness  instrumentalness  ...  \\\n",
       "0   5.0    -8.501   0.0       0.1150      0.042900             0.000  ...   \n",
       "1   4.0    -8.680   1.0       0.0288      0.282000             0.000  ...   \n",
       "2  10.0    -6.815   1.0       0.0403      0.082700             0.000  ...   \n",
       "3   7.0    -6.245   1.0       0.1090      0.044400             0.979  ...   \n",
       "4   0.0    -5.487   1.0       0.0322      0.000136             0.925  ...   \n",
       "\n",
       "   valence    tempo  duration  time_signature  \\\n",
       "0    0.831  178.124  254360.0             4.0   \n",
       "1    0.161  120.036  336533.0             4.0   \n",
       "2    0.850  134.050  308267.0             4.0   \n",
       "3    0.192  162.700  230200.0             4.0   \n",
       "4    0.818  151.741  150227.0             4.0   \n",
       "\n",
       "                                              lyrics  genius_id  annotation  \\\n",
       "0  Tonite LyricsYou know I really want to love yo...  1382268.0          []   \n",
       "1  Have I Never LyricsHave I never told you I lov...  1187594.0          []   \n",
       "2  Don’t Cry (Behind My Back) LyricsDon't cry, do...   897142.0          []   \n",
       "3  Modern Love Is Automatic LyricsShe's an automa...   969269.0          []   \n",
       "4                                                nan        NaN         NaN   \n",
       "\n",
       "                                         lyrics_list  line_len  song_len  \n",
       "0  [Tonite LyricsYou know I really want to love y...  6.666667        66  \n",
       "1  [Have I Never LyricsHave I never told you I lo...  8.196078        51  \n",
       "2  [Don’t Cry (Behind My Back) LyricsDon't cry, d...  5.371429        70  \n",
       "3  [Modern Love Is Automatic LyricsShe's an autom...  3.147059        34  \n",
       "4                                              [nan]  1.000000         1  \n",
       "\n",
       "[5 rows x 21 columns]"
      ]
     },
     "execution_count": 12,
     "metadata": {},
     "output_type": "execute_result"
    }
   ],
   "source": [
    "pre_df.head()"
   ]
  },
  {
   "cell_type": "code",
   "execution_count": 13,
   "metadata": {},
   "outputs": [
    {
     "data": {
      "text/plain": [
       "artist              0.010566\n",
       "title               0.011492\n",
       "danceability        0.010587\n",
       "energy              0.010587\n",
       "key                 0.010587\n",
       "loudness            0.010587\n",
       "mode                0.010587\n",
       "speechiness         0.010587\n",
       "acousticness        0.010587\n",
       "instrumentalness    0.010587\n",
       "liveness            0.010587\n",
       "valence             0.010587\n",
       "tempo               0.010587\n",
       "duration            0.010587\n",
       "time_signature      0.010587\n",
       "lyrics              0.000000\n",
       "genius_id           0.055577\n",
       "annotation          0.055577\n",
       "lyrics_list         0.000000\n",
       "line_len            0.000000\n",
       "song_len            0.000000\n",
       "dtype: float64"
      ]
     },
     "execution_count": 13,
     "metadata": {},
     "output_type": "execute_result"
    }
   ],
   "source": [
    "pre_df.isnull().sum()/len(pre_df)"
   ]
  },
  {
   "cell_type": "code",
   "execution_count": 14,
   "metadata": {},
   "outputs": [
    {
     "data": {
      "text/plain": [
       "94.34974780302636"
      ]
     },
     "execution_count": 14,
     "metadata": {},
     "output_type": "execute_result"
    }
   ],
   "source": [
    "# percent dropna\n",
    "len(pre_df.dropna())/len(pre_df)*100"
   ]
  },
  {
   "cell_type": "code",
   "execution_count": 15,
   "metadata": {},
   "outputs": [],
   "source": [
    "cleaned_df = pre_df.dropna()"
   ]
  },
  {
   "cell_type": "code",
   "execution_count": 16,
   "metadata": {},
   "outputs": [],
   "source": [
    "cleaned_df.reset_index(inplace=True, drop=True)"
   ]
  },
  {
   "cell_type": "code",
   "execution_count": 17,
   "metadata": {},
   "outputs": [
    {
     "data": {
      "text/plain": [
       "(90722, 21)"
      ]
     },
     "execution_count": 17,
     "metadata": {},
     "output_type": "execute_result"
    }
   ],
   "source": [
    "cleaned_df.shape"
   ]
  },
  {
   "cell_type": "code",
   "execution_count": 18,
   "metadata": {},
   "outputs": [],
   "source": [
    "cleaned_df.to_csv('../cleaned_songs.csv', index=False)"
   ]
  },
  {
   "cell_type": "code",
   "execution_count": 19,
   "metadata": {},
   "outputs": [
    {
     "data": {
      "text/plain": [
       "90.72200000000001"
      ]
     },
     "execution_count": 19,
     "metadata": {},
     "output_type": "execute_result"
    }
   ],
   "source": [
    "len(cleaned_df)/len(df)*100"
   ]
  },
  {
   "cell_type": "markdown",
   "metadata": {},
   "source": [
    "#### Split the data for fine-tuning pair and test embeddings"
   ]
  },
  {
   "cell_type": "code",
   "execution_count": 20,
   "metadata": {},
   "outputs": [],
   "source": [
    "# shuffle then split the data in half so we can get the distribution of songs evenly amongst different artists and styles.\n",
    "from sklearn.model_selection import train_test_split\n",
    "X = cleaned_df\n",
    "train, test = train_test_split(X, test_size=0.5, random_state=42)"
   ]
  },
  {
   "cell_type": "code",
   "execution_count": 21,
   "metadata": {},
   "outputs": [],
   "source": [
    "# sampling songs from train and test sets\n",
    "sample_train = train.sample(n=1000, random_state=42)\n",
    "sample_test = test.sample(n=1000, random_state=42)\n",
    "\n",
    "_pickle = [sample_train, sample_test]"
   ]
  },
  {
   "cell_type": "code",
   "execution_count": 22,
   "metadata": {},
   "outputs": [],
   "source": [
    "with open('../App/pickle_objects/train_test.pickle', 'wb') as f:\n",
    "    pickle.dump(_pickle, f)"
   ]
  },
  {
   "cell_type": "code",
   "execution_count": 23,
   "metadata": {},
   "outputs": [
    {
     "data": {
      "text/plain": [
       "(1000, 21)"
      ]
     },
     "execution_count": 23,
     "metadata": {},
     "output_type": "execute_result"
    }
   ],
   "source": [
    "sample_train.shape"
   ]
  },
  {
   "cell_type": "code",
   "execution_count": 24,
   "metadata": {},
   "outputs": [
    {
     "data": {
      "text/plain": [
       "(1000, 21)"
      ]
     },
     "execution_count": 24,
     "metadata": {},
     "output_type": "execute_result"
    }
   ],
   "source": [
    "sample_test.shape"
   ]
  },
  {
   "cell_type": "code",
   "execution_count": null,
   "metadata": {},
   "outputs": [],
   "source": []
  }
 ],
 "metadata": {
  "kernelspec": {
   "display_name": "Python 3.10.6 ('dataenv')",
   "language": "python",
   "name": "python3"
  },
  "language_info": {
   "codemirror_mode": {
    "name": "ipython",
    "version": 3
   },
   "file_extension": ".py",
   "mimetype": "text/x-python",
   "name": "python",
   "nbconvert_exporter": "python",
   "pygments_lexer": "ipython3",
   "version": "3.10.6"
  },
  "orig_nbformat": 4,
  "vscode": {
   "interpreter": {
    "hash": "467f60c46b88ea196e8e4e51716c4f14b05141d893e1660e0038b81da854c476"
   }
  }
 },
 "nbformat": 4,
 "nbformat_minor": 2
}
