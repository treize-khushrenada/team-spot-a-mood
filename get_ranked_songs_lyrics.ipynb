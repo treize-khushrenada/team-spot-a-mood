{
 "cells": [
  {
   "cell_type": "code",
   "execution_count": 2,
   "metadata": {},
   "outputs": [],
   "source": [
    "# Import packages\n",
    "# Data manipulation\n",
    "import re\n",
    "import pickle\n",
    "import math\n",
    "import numpy as np\n",
    "import pandas as pd\n",
    "import nltk\n",
    "#first time usage: download addtional packages form nltk first:\n",
    "#nltk.download()\n",
    "from nltk.tokenize import word_tokenize\n",
    "from sentence_transformers import SentenceTransformer, util"
   ]
  },
  {
   "cell_type": "markdown",
   "metadata": {},
   "source": [
    "### Ranking Generation"
   ]
  },
  {
   "cell_type": "code",
   "execution_count": 2,
   "metadata": {},
   "outputs": [],
   "source": [
    "# Helper functions to main ranking function\n",
    "\n",
    "# Get closest lyrics lines matches from user text input\n",
    "def text_get_similar_lyrics_lines(user_text_input, embeddings, arr_lyrics_idx, model_name = \"all-distilroberta-v1\"):\n",
    "    model = SentenceTransformer(model_name)\n",
    "    input_emb = model.encode(user_text_input, convert_to_tensor=True)\n",
    "    res_cos_sim = util.semantic_search(input_emb, embeddings, score_function=util.cos_sim, top_k=100)\n",
    "    # Convert results and mapped lyrics id as pd dataframe\n",
    "    res_df = pd.DataFrame(res_cos_sim[0])\n",
    "    res_df.rename(columns = {'corpus_id':'lyrics_id'}, inplace = True)\n",
    "    res_df['lyrics_line'] = arr_lyrics_idx[res_df['lyrics_id']]\n",
    "    return res_df\n",
    "\n",
    "# For invert indexing // Look up ids of corresponding songs\n",
    "def lyrics_id_mapping(res_df, arr_lyrics_idx):\n",
    "    arr_lyrics_id = res_df['lyrics_id'].to_numpy()\n",
    "    arr_idx = arr_lyrics_id.astype(int)\n",
    "    arr_song_row_idx = arr_lyrics_idx[arr_idx]\n",
    "    res_df['song_idx'] = arr_song_row_idx\n",
    "    return res_df\n",
    "\n",
    "# Suppress utterances which have low similarity scores\n",
    "def score_low_sim_weighting(df, threshold = 0.9, weight_low_sim = 1):\n",
    "    df['score_weighted'] = df['score'].apply(lambda x: x * weight_low_sim if x < threshold else x)\n",
    "    return df\n",
    "\n",
    "# Re-rank on songs level based on average lyrics line scores\n",
    "def songs_ranking(df_results_lyrics_mapped):\n",
    "    res = df_results_lyrics_mapped.groupby('song_idx')['score_weighted'].mean()\n",
    "    res = res.sort_values(ascending=False)\n",
    "    return res\n",
    "\n",
    "# Combine songs information to ranked songs\n",
    "def combine_songs_info(s_songs_ranking, sample_artists_set, results_limit = 10):\n",
    "    df_songs_candidates = sample_artists_set.filter(items = s_songs_ranking.index, axis=0)\n",
    "    df_songs_candidates['score'] = s_songs_ranking\n",
    "    df_songs_candidates['song_idx'] = s_songs_ranking\n",
    "    res_df = df_songs_candidates[['artist', 'title', 'score']][:10]\n",
    "    return res_df"
   ]
  },
  {
   "cell_type": "code",
   "execution_count": 3,
   "metadata": {},
   "outputs": [],
   "source": [
    "# Overall function to generate songs ranking based on lyrics lines semantic textual similarity \n",
    "def similar_songs_ranked(user_input, embeddings, sample_artists_set, lyrics_set, arr_song_idx):\n",
    "    df_results_lyrics = text_get_similar_lyrics_lines(user_input, embeddings, lyrics_set)\n",
    "    df_results_lyrics_mapped = lyrics_id_mapping(df_results_lyrics, arr_song_idx)\n",
    "    df_results_lyrics_mapped = score_low_sim_weighting(df_results_lyrics_mapped)\n",
    "    s_songs_ranking = songs_ranking(df_results_lyrics_mapped)\n",
    "    df_results_songs = combine_songs_info(s_songs_ranking, sample_artists_set)\n",
    "    return df_results_songs, df_results_lyrics_mapped"
   ]
  },
  {
   "cell_type": "code",
   "execution_count": 4,
   "metadata": {},
   "outputs": [],
   "source": [
    "# Helper function to support getting songs/ lyrics results\n",
    "\n",
    "# Look up relevant lyrics lines an their similarity scores\n",
    "def lyrics_scores_lookup(song_id, df_results_lyrics_mapped):\n",
    "    res = df_results_lyrics_mapped[df_results_lyrics_mapped['song_idx'] == song_id][['lyrics_line', 'score']]\n",
    "    res = res.sort_values(by=['score'], ascending=False)\n",
    "    return res"
   ]
  },
  {
   "cell_type": "code",
   "execution_count": 5,
   "metadata": {},
   "outputs": [],
   "source": [
    "# Generate output on both songs and lyrics level, as a list of dictionaries\n",
    "def similar_songs_lyrics_ranked(df_results_songs, df_results_lyrics_mapped):\n",
    "\n",
    "    result_list = []\n",
    "\n",
    "    for song_id in df_results_songs.index:\n",
    "        song_title = df_results_songs['title'].loc[song_id]\n",
    "        song_artist = df_results_songs['artist'].loc[song_id]\n",
    "        song_score = df_results_songs['score'].loc[song_id]\n",
    "        song_id = song_id\n",
    "        df_lyrics_scores = lyrics_scores_lookup(song_id, df_results_lyrics_mapped)\n",
    "        d_lyrics = dict(zip(df_lyrics_scores['lyrics_line'], df_lyrics_scores['score']))\n",
    "        dict_object = {\"song_id\": song_id, \"artist\":song_artist, \"song title\":song_title, \"song_score\":song_score, \"lyrics_scores\":d_lyrics}\n",
    "        result_list.append(dict_object)\n",
    "    \n",
    "    return result_list"
   ]
  },
  {
   "cell_type": "code",
   "execution_count": 6,
   "metadata": {},
   "outputs": [],
   "source": [
    "# PLEASE REFER TO preprocessing.ipynb FOR PREPROCESSING STEP\n",
    "with open('./pickle_objects/sample_song_lyrics_set.obj', 'rb') as f:\n",
    "    l_pickle = pickle.load(f)\n",
    "\n",
    "sample_artists_set = l_pickle[0]\n",
    "lyrics_set = l_pickle[1]\n",
    "\n",
    "# PLEASE REFER TO get_embeddings.ipynb FOR EMBEDDINGS GENERATION STEP\n",
    "with open('./pickle_objects/embeddings_indices.obj', 'rb') as f:\n",
    "    l_pickle = pickle.load(f)\n",
    "\n",
    "embeddings = l_pickle[0]\n",
    "arr_song_idx = l_pickle[1] \n",
    "arr_lyrics_idx = l_pickle[2] "
   ]
  },
  {
   "cell_type": "code",
   "execution_count": 7,
   "metadata": {},
   "outputs": [
    {
     "data": {
      "text/html": [
       "<div>\n",
       "<style scoped>\n",
       "    .dataframe tbody tr th:only-of-type {\n",
       "        vertical-align: middle;\n",
       "    }\n",
       "\n",
       "    .dataframe tbody tr th {\n",
       "        vertical-align: top;\n",
       "    }\n",
       "\n",
       "    .dataframe thead th {\n",
       "        text-align: right;\n",
       "    }\n",
       "</style>\n",
       "<table border=\"1\" class=\"dataframe\">\n",
       "  <thead>\n",
       "    <tr style=\"text-align: right;\">\n",
       "      <th></th>\n",
       "      <th>song_id</th>\n",
       "      <th>artist</th>\n",
       "      <th>song title</th>\n",
       "      <th>song_score</th>\n",
       "      <th>lyrics_scores</th>\n",
       "    </tr>\n",
       "  </thead>\n",
       "  <tbody>\n",
       "    <tr>\n",
       "      <th>0</th>\n",
       "      <td>407</td>\n",
       "      <td>a-ha</td>\n",
       "      <td>Between Your Mama and Yourself</td>\n",
       "      <td>0.489485</td>\n",
       "      <td>{'And today's that day': 0.489484965801239}</td>\n",
       "    </tr>\n",
       "    <tr>\n",
       "      <th>1</th>\n",
       "      <td>405</td>\n",
       "      <td>a-ha</td>\n",
       "      <td>How Sweet It Was</td>\n",
       "      <td>0.466080</td>\n",
       "      <td>{'We were so happy now': 0.48340049386024475, ...</td>\n",
       "    </tr>\n",
       "    <tr>\n",
       "      <th>2</th>\n",
       "      <td>318</td>\n",
       "      <td>a-ha</td>\n",
       "      <td>And You Tell Me</td>\n",
       "      <td>0.434451</td>\n",
       "      <td>{'And tomorrow is the day': 0.4344506859779358}</td>\n",
       "    </tr>\n",
       "    <tr>\n",
       "      <th>3</th>\n",
       "      <td>451</td>\n",
       "      <td>a-ha</td>\n",
       "      <td>Mother Nature Goes to Heaven</td>\n",
       "      <td>0.412798</td>\n",
       "      <td>{'And there will be no sadder day': 0.41279757...</td>\n",
       "    </tr>\n",
       "    <tr>\n",
       "      <th>4</th>\n",
       "      <td>415</td>\n",
       "      <td>a-ha</td>\n",
       "      <td>Thought That It Was You</td>\n",
       "      <td>0.406768</td>\n",
       "      <td>{'You found me in your joy': 0.4067680537700653}</td>\n",
       "    </tr>\n",
       "    <tr>\n",
       "      <th>5</th>\n",
       "      <td>312</td>\n",
       "      <td>a-ha</td>\n",
       "      <td>Take on Me</td>\n",
       "      <td>0.399959</td>\n",
       "      <td>{'Today's another day to find you': 0.39995858...</td>\n",
       "    </tr>\n",
       "    <tr>\n",
       "      <th>6</th>\n",
       "      <td>236</td>\n",
       "      <td>A$AP Ferg</td>\n",
       "      <td>Cocaine Castle</td>\n",
       "      <td>0.398855</td>\n",
       "      <td>{'I was, I just, I just, I just remember that ...</td>\n",
       "    </tr>\n",
       "    <tr>\n",
       "      <th>7</th>\n",
       "      <td>418</td>\n",
       "      <td>a-ha</td>\n",
       "      <td>I Won't Forget Her</td>\n",
       "      <td>0.363266</td>\n",
       "      <td>{'Much like today': 0.3632664382457733}</td>\n",
       "    </tr>\n",
       "    <tr>\n",
       "      <th>8</th>\n",
       "      <td>392</td>\n",
       "      <td>a-ha</td>\n",
       "      <td>Slender Frame</td>\n",
       "      <td>0.362153</td>\n",
       "      <td>{'Wrap up your things today': 0.36335372924804...</td>\n",
       "    </tr>\n",
       "    <tr>\n",
       "      <th>9</th>\n",
       "      <td>393</td>\n",
       "      <td>a-ha</td>\n",
       "      <td>East of the Sun</td>\n",
       "      <td>0.361501</td>\n",
       "      <td>{'Another day leaves me aching': 0.36150121688...</td>\n",
       "    </tr>\n",
       "  </tbody>\n",
       "</table>\n",
       "</div>"
      ],
      "text/plain": [
       "   song_id     artist                      song title  song_score  \\\n",
       "0      407       a-ha  Between Your Mama and Yourself    0.489485   \n",
       "1      405       a-ha                How Sweet It Was    0.466080   \n",
       "2      318       a-ha                 And You Tell Me    0.434451   \n",
       "3      451       a-ha    Mother Nature Goes to Heaven    0.412798   \n",
       "4      415       a-ha         Thought That It Was You    0.406768   \n",
       "5      312       a-ha                      Take on Me    0.399959   \n",
       "6      236  A$AP Ferg                  Cocaine Castle    0.398855   \n",
       "7      418       a-ha              I Won't Forget Her    0.363266   \n",
       "8      392       a-ha                   Slender Frame    0.362153   \n",
       "9      393       a-ha                 East of the Sun    0.361501   \n",
       "\n",
       "                                       lyrics_scores  \n",
       "0        {'And today's that day': 0.489484965801239}  \n",
       "1  {'We were so happy now': 0.48340049386024475, ...  \n",
       "2    {'And tomorrow is the day': 0.4344506859779358}  \n",
       "3  {'And there will be no sadder day': 0.41279757...  \n",
       "4   {'You found me in your joy': 0.4067680537700653}  \n",
       "5  {'Today's another day to find you': 0.39995858...  \n",
       "6  {'I was, I just, I just, I just remember that ...  \n",
       "7            {'Much like today': 0.3632664382457733}  \n",
       "8  {'Wrap up your things today': 0.36335372924804...  \n",
       "9  {'Another day leaves me aching': 0.36150121688...  "
      ]
     },
     "execution_count": 7,
     "metadata": {},
     "output_type": "execute_result"
    }
   ],
   "source": [
    "user_input = \"I am happy today\"\n",
    "\n",
    "df_results_songs, df_results_lyrics_mapped = similar_songs_ranked(user_input, embeddings, sample_artists_set, arr_lyrics_idx, arr_song_idx)\n",
    "result = similar_songs_lyrics_ranked(df_results_songs, df_results_lyrics_mapped)\n",
    "pd.DataFrame(result)"
   ]
  },
  {
   "cell_type": "code",
   "execution_count": 10,
   "metadata": {},
   "outputs": [
    {
     "data": {
      "text/plain": [
       "10"
      ]
     },
     "execution_count": 10,
     "metadata": {},
     "output_type": "execute_result"
    }
   ],
   "source": [
    "len(result)"
   ]
  },
  {
   "cell_type": "code",
   "execution_count": 11,
   "metadata": {},
   "outputs": [
    {
     "data": {
      "text/plain": [
       "list"
      ]
     },
     "execution_count": 11,
     "metadata": {},
     "output_type": "execute_result"
    }
   ],
   "source": [
    "type(result)"
   ]
  },
  {
   "cell_type": "code",
   "execution_count": null,
   "metadata": {},
   "outputs": [],
   "source": []
  }
 ],
 "metadata": {
  "kernelspec": {
   "display_name": "Python 3.8.13 ('sam')",
   "language": "python",
   "name": "python3"
  },
  "language_info": {
   "codemirror_mode": {
    "name": "ipython",
    "version": 3
   },
   "file_extension": ".py",
   "mimetype": "text/x-python",
   "name": "python",
   "nbconvert_exporter": "python",
   "pygments_lexer": "ipython3",
   "version": "3.8.13"
  },
  "orig_nbformat": 4,
  "vscode": {
   "interpreter": {
    "hash": "c1e9e221c7a8b896049a5643dbc55f3c8ad76c8b9df1c7f7e9d1ce1ca950a084"
   }
  }
 },
 "nbformat": 4,
 "nbformat_minor": 2
}
