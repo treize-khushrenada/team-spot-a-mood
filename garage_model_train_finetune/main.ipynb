{
 "cells": [
  {
   "cell_type": "code",
   "execution_count": 11,
   "metadata": {},
   "outputs": [],
   "source": [
    "import os\n",
    "import pickle\n",
    "import json\n",
    "import csv\n",
    "import time\n",
    "import lyricsgenius as lg\n",
    "import re\n",
    "import numpy as np\n",
    "import pandas as pd\n",
    "\n",
    "#import credential\n",
    "import requests"
   ]
  },
  {
   "cell_type": "code",
   "execution_count": 14,
   "metadata": {},
   "outputs": [],
   "source": [
    "CLIENT_ACCESS_TOKEN = \"xXeju4S5sFpDZOv5SAjWMwmOjcjTChruhQj6o3rK6O5ROA5mlA9MLx0Zth4S8ljG\"\n",
    "genius = lg.Genius(CLIENT_ACCESS_TOKEN)\n"
   ]
  },
  {
   "cell_type": "markdown",
   "metadata": {},
   "source": [
    "Degrees of similarity for lyrics data:\n",
    "- annotation text and the respective lyrics text portion should have high similarity"
   ]
  },
  {
   "cell_type": "code",
   "execution_count": 15,
   "metadata": {},
   "outputs": [],
   "source": [
    "def lyrics_annotations_pairs_gen(genius_song_id):\n",
    "\n",
    "    annotations_sample_song = genius.song_annotations(genius_song_id)\n",
    "\n",
    "    l_pairs = []\n",
    "\n",
    "    for annotation_pair in annotations_sample_song:\n",
    "\n",
    "        lyrics_ref = annotation_pair[0]\n",
    "\n",
    "        cond_empty_ref = len(lyrics_ref) <1 or lyrics_ref.isspace()\n",
    "        cond_ref_chorus = re.match(r\"(?i)^\\[chorus\\s*\\d*\\]$\", lyrics_ref)\n",
    "        cond_ref_verse = re.match(r\"(?i)^\\[verse\\s*\\d*\\]$\", lyrics_ref)\n",
    "        \n",
    "        # Ignore hanlding for \"empty reference\"\n",
    "        if cond_empty_ref or cond_ref_chorus or cond_ref_verse:\n",
    "\n",
    "            continue\n",
    "\n",
    "        annotation = annotation_pair[1][0][0]\n",
    "        t_pair = (lyrics_ref, annotation)\n",
    "        l_pairs.append(t_pair)\n",
    "\n",
    "    return l_pairs"
   ]
  },
  {
   "cell_type": "code",
   "execution_count": 53,
   "metadata": {},
   "outputs": [
    {
     "data": {
      "text/plain": [
       "[('There ain’t no gold in this river\\n That I’ve been washin’ my hands in forever\\n I know there is hope in these waters\\n But I can’t bring myself to swim\\n When I am drowning in this silence\\n Baby, let me in',\n",
       "  'In the opening verse of “Easy On Me,” Adele recalls how her relationship with Simon Konecki had reached a breaking point. After six years of dating, Adele indirectly announced her marriage to Simon Konecki at the  59th Annual Grammy Awards in 2017.  However, in 2019, her team formally shared the news of their separation to Associated Press.\\n\\nAdele states in the opening lyric that she no longer finds value in the “river” which is a metaphor for her relationship. Based on her interview with Vogue USA where she shared that the album is about “divorcing myself,” the “river” can also be a reference to her life. Despite constantly trying to make her married life work and remain happy in doing so, she no longer found value in her life in that state.\\n\\nIn her interview with Vogue UK she talked about these sentiments referring to her divorce,\\n\\nPeople were everywhere, trying to get stories, and I just hated it. I was embarrassed. I was really embarrassed. That thing of not being able to make something work. We’ve been trained as women to keep trying, even by the movies we watched when we were little. At the time it broke my heart, but I actually find it so interesting now. How we’re told to suck it up.”\\n\\nDespite all her struggles, Adele also shares that she didn’t want to give up hope. She tried to save her relationship but in the end, the couple drowned themselves in silence.'),\n",
       " ('There ain’t no room for things to change\\n When we are both so deeply stuck in our ways\\n You can’t deny how hard I’ve tried',\n",
       "  'Adele sings directly to her ex-husband, Simon Konecki. She explains how their relationship was “stuck” and was beyond repair, despite her undeniable efforts. The couple filed for divorce in 2019.\\n\\nIn her interview with Vogue USA, Adele talked about her married life with Simon Konecki:\\n\\n“I was just going through the motions and I wasn’t happy, neither of us did anything wrong. Neither of us hurt each other or anything like that. It was just: I want my son to see me really love, and be loved. It’s really important to me.\"'),\n",
       " ('I had good intentions\\n And the highest hopes\\n But I know right now\\n It probably doesn’t even show',\n",
       "  'In the bridge, Adele tells her son (and herself) that she had “good intentions” when marrying and having a child with her ex-husband Simon Konecki. In her interview with Vogue USA, she explained that she never viewed Konecki as another one of her exes and didn’t want her son to be under a false impression either,\\n\\nHe’s not one of my exes. He’s the dad of my child.\\n\\nShe never anticipated that she would one day need to leave him and cause pain for her child in doing so. She recognizes, however, that those “good intentions” and “highest hopes” will probably go unnoticed by her son. She shared her experience with handling her son’s confusion in her interview with Vogue UK, confessing that she didn’t have all the answers either,\\n\\nAngelo’s just like, ‘I don’t get it.’ I don’t really get it either. There are rules that are made up in society of what happens and doesn’t happen in marriage and after marriage, but I’m a very complex person. I’ve always let him know how I’m feeling from a very young age because I felt quite frazzled as an adult.'),\n",
       " ('Go easy on me, baby\\n I was still a child\\n Didn’t get the chance to\\n Feel the world around me\\n I had no time to choose what I chose to do\\n So go easy on me',\n",
       "  \"Adele sings to her son, Angelo Adkins, asking his forgiveness for leaving his father, Simon Konecki. In an interview for Vogue magazine, Adele speaks on how 30 partly serves as an explanation for the divorce to her child:\\n\\nIf I can reach the reason why I left, which was the pursuit of my own happiness, even though it made Angelo really unhappy—if I can find that happiness and he sees me in that happiness, then maybe I’ll be able to forgive myself for it. […] He said to my face, ‘Can you see me?’ And I was like, ‘Uh, yeah.’ And he was like, ‘'Cause I can’t see you.’ Well, my whole life fell apart in that moment. He knew I wasn’t there. That’s when I started sharing with him. […] He has so many simple questions for me that I can’t answer, because I don’t know the answer. Like, ‘Why can’t we still live together?’ ‘That’s just not what people do when they get divorced.’ ‘But why not?’ I’m like, ‘I don’t fucking know. That’s not what society does.’ And: ‘Why don’t you love my dad anymore?’ And I’d be like, ‘I do love your dad. I’m just not in love.’ I can’t make that make sense to a nine-year-old.\\n\\nAlternatively, she may be speaking directly to her ex-husband, asking him for understanding and tenderness. Perhaps, in a sense, she is also talking to herself, reminding herself not to feel guilty or blameworthy.\\n\\nAdam Neely did an awesome breakdown about how Adele uses “pitch as an expressive device” on this chorus:\\n\\nhttps://www.youtube.com/watch?v=njyCxQxR41M&t=15s\"),\n",
       " ('I changed who I was to put you both first\\n But now I give up',\n",
       "  'Adele talks about changing herself to make her marriage with Simon Konecki work. In this line, Adele sings directly to her husband and son.\\n\\nAs a mother, she “changed” herself and put her husband and son before her because she couldn’t find the strength to shake up her son’s life. However, she realizes that she’s had enough and she must put herself first. In her interview with Vogue USA, she said that “Easy On Me” and the rest of the album is her way of explaining her separation to her son.\\n\\nIn the interview, she also revealed that she chose to put herself first because,\\n\\nI want my son to see me really love, and be loved. It’s really important to me. I’ve been on my journey to find my true happiness ever since.\\n\\nShe explained her intentions further in Vogue UK,\\n\\nIt just wasn’t right for me anymore. I didn’t want to end up like a lot of other people I knew. I wasn’t miserable miserable, but I would have been miserable had I not put myself first. But, yeah, nothing bad happened or anything like that.\\n\\nDuring this lyric, the music video transitions from black and white to coloured, signifying her evolution and growth into finding happiness for herself.')]"
      ]
     },
     "execution_count": 53,
     "metadata": {},
     "output_type": "execute_result"
    }
   ],
   "source": [
    "lyrics_annotations_pairs_gen(7260084)"
   ]
  },
  {
   "cell_type": "code",
   "execution_count": 16,
   "metadata": {},
   "outputs": [
    {
     "data": {
      "text/plain": [
       "'“Easy On Me” marks Adele’s return after a six-year hiatus. The song is the lead single off her fourth studio album 30. In an October 2021 BBC Radio 1 interview, Adele revealed that it was the first song written for the album, as she started it back in 2019. The song sees the singer speak about her fraught childhood, her lost marriage and the lessons learnt and unlearnt about family, love and abandonment along the way.\\n\\nFollowing recent teases of her long-awaited fourth album on October 5, 2021, Adele took to Twitter, announcing that she would be dropping a brand new song on October 15th, sharing the teaser trailer to this track. The first verse of the song was played during Adele’s Instagram Live on October 9, 2021.\\n\\nUpon its release, “Easy On Me” broke the world record for the most streamed song in 24 hours, with 24 million streams. This unseated the previously record-holders BTS for their song “Butter.”'"
      ]
     },
     "execution_count": 16,
     "metadata": {},
     "output_type": "execute_result"
    }
   ],
   "source": [
    "# Get song description text\n",
    "sample_song = genius.song(7260084)\n",
    "sample_song['song']['description']['plain']"
   ]
  },
  {
   "cell_type": "code",
   "execution_count": 5,
   "metadata": {},
   "outputs": [],
   "source": [
    "df = pd.read_csv('../raw_data_local/songsdata_combined.csv')\n",
    "s_songs_id = pd.to_numeric(df['genius_id'], errors='coerce')\n",
    "list_songs_id = s_songs_id.astype('Int64').to_list()"
   ]
  },
  {
   "cell_type": "code",
   "execution_count": 6,
   "metadata": {},
   "outputs": [],
   "source": [
    "from finetune_pairs import lyrics_annotations_gen_id\n",
    "l_pairs, l_genius_song_idx = lyrics_annotations_gen_id(list_songs_id)"
   ]
  },
  {
   "cell_type": "code",
   "execution_count": 8,
   "metadata": {},
   "outputs": [
    {
     "data": {
      "text/plain": [
       "38782"
      ]
     },
     "execution_count": 8,
     "metadata": {},
     "output_type": "execute_result"
    }
   ],
   "source": [
    "len(l_pairs)"
   ]
  },
  {
   "cell_type": "code",
   "execution_count": 9,
   "metadata": {},
   "outputs": [
    {
     "data": {
      "text/plain": [
       "38782"
      ]
     },
     "execution_count": 9,
     "metadata": {},
     "output_type": "execute_result"
    }
   ],
   "source": [
    "len(l_genius_song_idx)"
   ]
  },
  {
   "cell_type": "code",
   "execution_count": 13,
   "metadata": {},
   "outputs": [],
   "source": [
    "l_pickle = [l_pairs, l_genius_song_idx]\n",
    "with open('../pickle_objects/lyrics_annotation_pairs.obj', 'wb') as f:\n",
    "    pickle.dump(l_pickle, f)"
   ]
  },
  {
   "cell_type": "markdown",
   "metadata": {},
   "source": [
    "Other dimensions to be considered\n",
    "\n",
    "- lyrics text with same artist/ same song-writer to have high similarity\n",
    "- lyrics text in the same song to have high similarity\n",
    "- lyrics text in the same verse should have high similarity"
   ]
  }
 ],
 "metadata": {
  "kernelspec": {
   "display_name": "Python 3.8.13 ('sam')",
   "language": "python",
   "name": "python3"
  },
  "language_info": {
   "codemirror_mode": {
    "name": "ipython",
    "version": 3
   },
   "file_extension": ".py",
   "mimetype": "text/x-python",
   "name": "python",
   "nbconvert_exporter": "python",
   "pygments_lexer": "ipython3",
   "version": "3.8.13"
  },
  "orig_nbformat": 4,
  "vscode": {
   "interpreter": {
    "hash": "c1e9e221c7a8b896049a5643dbc55f3c8ad76c8b9df1c7f7e9d1ce1ca950a084"
   }
  }
 },
 "nbformat": 4,
 "nbformat_minor": 2
}
