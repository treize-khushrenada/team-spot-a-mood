{
 "cells": [
  {
   "cell_type": "code",
   "execution_count": 1,
   "metadata": {},
   "outputs": [],
   "source": [
    "import os\n",
    "import pickle\n",
    "import json\n",
    "import csv\n",
    "import time\n",
    "import lyricsgenius as lg\n",
    "import re\n",
    "import numpy as np\n",
    "import pandas as pd\n",
    "\n",
    "#import credential\n",
    "import requests"
   ]
  },
  {
   "cell_type": "code",
   "execution_count": 2,
   "metadata": {},
   "outputs": [],
   "source": [
    "CLIENT_ACCESS_TOKEN = \"xXeju4S5sFpDZOv5SAjWMwmOjcjTChruhQj6o3rK6O5ROA5mlA9MLx0Zth4S8ljG\"\n",
    "genius = lg.Genius(CLIENT_ACCESS_TOKEN)\n"
   ]
  },
  {
   "cell_type": "markdown",
   "metadata": {},
   "source": [
    "Degrees of similarity for lyrics data:\n",
    "- annotation text and the respective lyrics text portion should have high similarity"
   ]
  },
  {
   "cell_type": "code",
   "execution_count": 3,
   "metadata": {},
   "outputs": [],
   "source": [
    "def lyrics_annotations_pairs_gen(genius_song_id):\n",
    "\n",
    "    annotations_sample_song = genius.song_annotations(genius_song_id)\n",
    "\n",
    "    l_pairs = []\n",
    "\n",
    "    for annotation_pair in annotations_sample_song:\n",
    "\n",
    "        lyrics_ref = annotation_pair[0]\n",
    "\n",
    "        cond_empty_ref = len(lyrics_ref) <1 or lyrics_ref.isspace()\n",
    "        cond_ref_chorus = re.match(r\"(?i)^\\[chorus\\s*\\d*\\]$\", lyrics_ref)\n",
    "        cond_ref_verse = re.match(r\"(?i)^\\[verse\\s*\\d*\\]$\", lyrics_ref)\n",
    "        \n",
    "        # Ignore hanlding for \"empty reference\"\n",
    "        if cond_empty_ref or cond_ref_chorus or cond_ref_verse:\n",
    "\n",
    "            continue\n",
    "\n",
    "        annotation = annotation_pair[1][0][0]\n",
    "        t_pair = (lyrics_ref, annotation)\n",
    "        l_pairs.append(t_pair)\n",
    "\n",
    "    return l_pairs"
   ]
  },
  {
   "cell_type": "code",
   "execution_count": 6,
   "metadata": {},
   "outputs": [
    {
     "data": {
      "text/plain": [
       "1000"
      ]
     },
     "execution_count": 6,
     "metadata": {},
     "output_type": "execute_result"
    }
   ],
   "source": [
    "with open('../App/pickle_objects/annot_df.pickle', 'rb') as f:\n",
    "        df_train = pickle.load(f)\n",
    "s_songs_id = pd.to_numeric(df_train['genius_id'], errors='coerce')\n",
    "list_songs_id = s_songs_id.astype('Int64').to_list()\n",
    "df_with_annotation = df_train.astype('str')[df_train['annotation']!=\"[]\"]\n",
    "len(df_with_annotation)"
   ]
  },
  {
   "cell_type": "code",
   "execution_count": 8,
   "metadata": {},
   "outputs": [],
   "source": [
    "from finetune_pairs import lyrics_annotations_gen_id\n",
    "l_pairs, l_genius_song_idx = lyrics_annotations_gen_id(list_songs_id)"
   ]
  },
  {
   "cell_type": "code",
   "execution_count": 9,
   "metadata": {},
   "outputs": [
    {
     "data": {
      "text/plain": [
       "1137"
      ]
     },
     "execution_count": 9,
     "metadata": {},
     "output_type": "execute_result"
    }
   ],
   "source": [
    "len(l_pairs)"
   ]
  },
  {
   "cell_type": "code",
   "execution_count": 10,
   "metadata": {},
   "outputs": [
    {
     "data": {
      "text/plain": [
       "1137"
      ]
     },
     "execution_count": 10,
     "metadata": {},
     "output_type": "execute_result"
    }
   ],
   "source": [
    "len(l_genius_song_idx)"
   ]
  },
  {
   "cell_type": "code",
   "execution_count": 15,
   "metadata": {},
   "outputs": [
    {
     "data": {
      "text/plain": [
       "[('I ain’t afraid to act like a fool\\n Like a motherfuckin kid',\n",
       "  'This is a continuation of a motif SkyBlu has referenced throughout his entire musical career. The motif is of SkyBlu being a child or being immature either in his simplistic lyricism or subject matter.'),\n",
       " ('We gonna do what they say can’t be done',\n",
       "  'The meaning of this line is many men have tried moving Coors but have failed!'),\n",
       " ('Loaded up and truckin’',\n",
       "  'In the movie they got the beer and were headed back to Atlanta GA.'),\n",
       " ('Let it all hang out ’cause we’ve got a run to make',\n",
       "  '“Let it all hang out” is slang for “don’t hold back and be yourself”, and its literal meaning comes from the notion of being naked and allowing the male genitalia to “hang” freely, although when used in modern English, this is not usually a literal request.\\n\\nThe line restates the urgency of the delivery and the need to focus on the task at hand.'),\n",
       " ('You’ve gotta keep that diesel truckin’',\n",
       "  'The vast majority of heavy goods vehicles use diesel engines because the fuel will ignite without the need for a spark, using only compression, and tends to produce higher torque at lower revolutions per minute than a petroleum engine.\\n\\nIt is named after its inventor, the German engineer Rudolf Diesel.')]"
      ]
     },
     "execution_count": 15,
     "metadata": {},
     "output_type": "execute_result"
    }
   ],
   "source": [
    "# inspect the first 5 annotation-lyrics pairs\n",
    "l_pairs[:5]"
   ]
  },
  {
   "cell_type": "code",
   "execution_count": 16,
   "metadata": {},
   "outputs": [],
   "source": [
    "l_pickle = [l_pairs, l_genius_song_idx]\n",
    "with open('../App/pickle_objects/lyrics_annotation_pairs_train.pickle', 'wb') as f:\n",
    "    pickle.dump(l_pickle, f)"
   ]
  },
  {
   "cell_type": "markdown",
   "metadata": {},
   "source": [
    "Other dimensions to be considered\n",
    "\n",
    "- lyrics text with same artist/ same song-writer to have high similarity\n",
    "- lyrics text in the same song to have high similarity\n",
    "- lyrics text in the same verse should have high similarity"
   ]
  }
 ],
 "metadata": {
  "kernelspec": {
   "display_name": "Python 3.8.13 ('sam')",
   "language": "python",
   "name": "python3"
  },
  "language_info": {
   "codemirror_mode": {
    "name": "ipython",
    "version": 3
   },
   "file_extension": ".py",
   "mimetype": "text/x-python",
   "name": "python",
   "nbconvert_exporter": "python",
   "pygments_lexer": "ipython3",
   "version": "3.8.13"
  },
  "orig_nbformat": 4,
  "vscode": {
   "interpreter": {
    "hash": "c1e9e221c7a8b896049a5643dbc55f3c8ad76c8b9df1c7f7e9d1ce1ca950a084"
   }
  }
 },
 "nbformat": 4,
 "nbformat_minor": 2
}
